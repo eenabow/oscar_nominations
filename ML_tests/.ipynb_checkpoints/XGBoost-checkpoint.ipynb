{
 "cells": [
  {
   "cell_type": "code",
   "execution_count": 1,
   "metadata": {
    "id": "njnIROS1705K"
   },
   "outputs": [],
   "source": [
    "# Import dependencies\n",
    "import pandas as pd\n",
    "import numpy as np"
   ]
  },
  {
   "cell_type": "markdown",
   "metadata": {
    "id": "BXmB7q_W72-g"
   },
   "source": [
    "## **Loading in CSV**"
   ]
  },
  {
   "cell_type": "code",
   "execution_count": 2,
   "metadata": {
    "id": "sS1ltylf70-f"
   },
   "outputs": [],
   "source": [
    "# Read in raw data of test_df from github\n",
    "url = 'https://raw.githubusercontent.com/eenabow/oscar_nominations/main/data/oscars2_df.csv'\n",
    "test_df = pd.read_csv(url, index_col=None)"
   ]
  },
  {
   "cell_type": "code",
   "execution_count": 3,
   "metadata": {
    "colab": {
     "base_uri": "https://localhost:8080/",
     "height": 238
    },
    "id": "AUDZfFQ-71BK",
    "outputId": "aecc8692-7e01-46c4-9e2c-eaffd03c0f70"
   },
   "outputs": [
    {
     "data": {
      "text/html": [
       "<div>\n",
       "<style scoped>\n",
       "    .dataframe tbody tr th:only-of-type {\n",
       "        vertical-align: middle;\n",
       "    }\n",
       "\n",
       "    .dataframe tbody tr th {\n",
       "        vertical-align: top;\n",
       "    }\n",
       "\n",
       "    .dataframe thead th {\n",
       "        text-align: right;\n",
       "    }\n",
       "</style>\n",
       "<table border=\"1\" class=\"dataframe\">\n",
       "  <thead>\n",
       "    <tr style=\"text-align: right;\">\n",
       "      <th></th>\n",
       "      <th>movie</th>\n",
       "      <th>duration</th>\n",
       "      <th>metascore</th>\n",
       "      <th>gross</th>\n",
       "      <th>critic_reviews</th>\n",
       "      <th>awards_wins</th>\n",
       "      <th>popularity</th>\n",
       "      <th>awards_nominations</th>\n",
       "      <th>golden_globes_nominated</th>\n",
       "      <th>oscar_nominated</th>\n",
       "    </tr>\n",
       "  </thead>\n",
       "  <tbody>\n",
       "    <tr>\n",
       "      <th>0</th>\n",
       "      <td>Kate &amp; Leopold</td>\n",
       "      <td>118</td>\n",
       "      <td>44.0</td>\n",
       "      <td>47100000.0</td>\n",
       "      <td>125.0</td>\n",
       "      <td>1</td>\n",
       "      <td>2363.0</td>\n",
       "      <td>4</td>\n",
       "      <td>2</td>\n",
       "      <td>1</td>\n",
       "    </tr>\n",
       "    <tr>\n",
       "      <th>1</th>\n",
       "      <td>Chicken Run</td>\n",
       "      <td>84</td>\n",
       "      <td>88.0</td>\n",
       "      <td>106790000.0</td>\n",
       "      <td>186.0</td>\n",
       "      <td>5</td>\n",
       "      <td>2859.0</td>\n",
       "      <td>11</td>\n",
       "      <td>1</td>\n",
       "      <td>0</td>\n",
       "    </tr>\n",
       "    <tr>\n",
       "      <th>2</th>\n",
       "      <td>Fantastic Four</td>\n",
       "      <td>106</td>\n",
       "      <td>40.0</td>\n",
       "      <td>154700000.0</td>\n",
       "      <td>278.0</td>\n",
       "      <td>0</td>\n",
       "      <td>1876.0</td>\n",
       "      <td>0</td>\n",
       "      <td>0</td>\n",
       "      <td>0</td>\n",
       "    </tr>\n",
       "    <tr>\n",
       "      <th>3</th>\n",
       "      <td>Frida</td>\n",
       "      <td>123</td>\n",
       "      <td>61.0</td>\n",
       "      <td>25780000.0</td>\n",
       "      <td>126.0</td>\n",
       "      <td>2</td>\n",
       "      <td>2508.0</td>\n",
       "      <td>12</td>\n",
       "      <td>2</td>\n",
       "      <td>1</td>\n",
       "    </tr>\n",
       "    <tr>\n",
       "      <th>4</th>\n",
       "      <td>The Lord of the Rings: The Fellowship of the Ring</td>\n",
       "      <td>178</td>\n",
       "      <td>92.0</td>\n",
       "      <td>313840000.0</td>\n",
       "      <td>296.0</td>\n",
       "      <td>26</td>\n",
       "      <td>204.0</td>\n",
       "      <td>67</td>\n",
       "      <td>4</td>\n",
       "      <td>1</td>\n",
       "    </tr>\n",
       "  </tbody>\n",
       "</table>\n",
       "</div>"
      ],
      "text/plain": [
       "                                               movie  duration  metascore  \\\n",
       "0                                     Kate & Leopold       118       44.0   \n",
       "1                                        Chicken Run        84       88.0   \n",
       "2                                     Fantastic Four       106       40.0   \n",
       "3                                              Frida       123       61.0   \n",
       "4  The Lord of the Rings: The Fellowship of the Ring       178       92.0   \n",
       "\n",
       "         gross  critic_reviews  awards_wins  popularity  awards_nominations  \\\n",
       "0   47100000.0           125.0            1      2363.0                   4   \n",
       "1  106790000.0           186.0            5      2859.0                  11   \n",
       "2  154700000.0           278.0            0      1876.0                   0   \n",
       "3   25780000.0           126.0            2      2508.0                  12   \n",
       "4  313840000.0           296.0           26       204.0                  67   \n",
       "\n",
       "   golden_globes_nominated  oscar_nominated  \n",
       "0                        2                1  \n",
       "1                        1                0  \n",
       "2                        0                0  \n",
       "3                        2                1  \n",
       "4                        4                1  "
      ]
     },
     "execution_count": 3,
     "metadata": {},
     "output_type": "execute_result"
    }
   ],
   "source": [
    "test_df.head()"
   ]
  },
  {
   "cell_type": "code",
   "execution_count": 4,
   "metadata": {
    "id": "UNJ0ozco71Dg"
   },
   "outputs": [],
   "source": [
    "# Will need to remove movie from test_df for actual model \n",
    "test_df = test_df[[\"duration\", \"metascore\", \"gross\", \"critic_reviews\", \"awards_wins\", \"popularity\", \"awards_nominations\", \"golden_globes_nominated\", \"oscar_nominated\"]]"
   ]
  },
  {
   "cell_type": "markdown",
   "metadata": {
    "id": "MvflT4FS8E9B"
   },
   "source": [
    "**XGBoost Machine Learning using GridSearch** "
   ]
  },
  {
   "cell_type": "code",
   "execution_count": 5,
   "metadata": {
    "id": "BLvF7Pcq8KPA"
   },
   "outputs": [
    {
     "ename": "XGBoostError",
     "evalue": "XGBoost Library (libxgboost.dylib) could not be loaded.\nLikely causes:\n  * OpenMP runtime is not installed (vcomp140.dll or libgomp-1.dll for Windows, libomp.dylib for Mac OSX, libgomp.so for Linux and other UNIX-like OSes). Mac OSX users: Run `brew install libomp` to install OpenMP runtime.\n  * You are running 32-bit Python on a 64-bit OS\nError message(s): ['dlopen(/Users/lhabersham/opt/anaconda3/lib/python3.8/site-packages/xgboost/lib/libxgboost.dylib, 6): Library not loaded: /usr/local/opt/libomp/lib/libomp.dylib\\n  Referenced from: /Users/lhabersham/opt/anaconda3/lib/python3.8/site-packages/xgboost/lib/libxgboost.dylib\\n  Reason: image not found']\n",
     "output_type": "error",
     "traceback": [
      "\u001b[0;31m---------------------------------------------------------------------------\u001b[0m",
      "\u001b[0;31mXGBoostError\u001b[0m                              Traceback (most recent call last)",
      "\u001b[0;32m<ipython-input-5-dac5fe4071d2>\u001b[0m in \u001b[0;36m<module>\u001b[0;34m\u001b[0m\n\u001b[0;32m----> 1\u001b[0;31m \u001b[0;32mimport\u001b[0m \u001b[0mxgboost\u001b[0m \u001b[0;32mas\u001b[0m \u001b[0mxgb\u001b[0m\u001b[0;34m\u001b[0m\u001b[0;34m\u001b[0m\u001b[0m\n\u001b[0m\u001b[1;32m      2\u001b[0m \u001b[0;32mfrom\u001b[0m \u001b[0msklearn\u001b[0m\u001b[0;34m.\u001b[0m\u001b[0mmodel_selection\u001b[0m \u001b[0;32mimport\u001b[0m \u001b[0mtrain_test_split\u001b[0m\u001b[0;34m\u001b[0m\u001b[0;34m\u001b[0m\u001b[0m\n",
      "\u001b[0;32m~/opt/anaconda3/lib/python3.8/site-packages/xgboost/__init__.py\u001b[0m in \u001b[0;36m<module>\u001b[0;34m\u001b[0m\n\u001b[1;32m      7\u001b[0m \u001b[0;32mimport\u001b[0m \u001b[0mos\u001b[0m\u001b[0;34m\u001b[0m\u001b[0;34m\u001b[0m\u001b[0m\n\u001b[1;32m      8\u001b[0m \u001b[0;34m\u001b[0m\u001b[0m\n\u001b[0;32m----> 9\u001b[0;31m \u001b[0;32mfrom\u001b[0m \u001b[0;34m.\u001b[0m\u001b[0mcore\u001b[0m \u001b[0;32mimport\u001b[0m \u001b[0mDMatrix\u001b[0m\u001b[0;34m,\u001b[0m \u001b[0mDeviceQuantileDMatrix\u001b[0m\u001b[0;34m,\u001b[0m \u001b[0mBooster\u001b[0m\u001b[0;34m\u001b[0m\u001b[0;34m\u001b[0m\u001b[0m\n\u001b[0m\u001b[1;32m     10\u001b[0m \u001b[0;32mfrom\u001b[0m \u001b[0;34m.\u001b[0m\u001b[0mtraining\u001b[0m \u001b[0;32mimport\u001b[0m \u001b[0mtrain\u001b[0m\u001b[0;34m,\u001b[0m \u001b[0mcv\u001b[0m\u001b[0;34m\u001b[0m\u001b[0;34m\u001b[0m\u001b[0m\n\u001b[1;32m     11\u001b[0m \u001b[0;32mfrom\u001b[0m \u001b[0;34m.\u001b[0m \u001b[0;32mimport\u001b[0m \u001b[0mrabit\u001b[0m  \u001b[0;31m# noqa\u001b[0m\u001b[0;34m\u001b[0m\u001b[0;34m\u001b[0m\u001b[0m\n",
      "\u001b[0;32m~/opt/anaconda3/lib/python3.8/site-packages/xgboost/core.py\u001b[0m in \u001b[0;36m<module>\u001b[0;34m\u001b[0m\n\u001b[1;32m    193\u001b[0m \u001b[0;34m\u001b[0m\u001b[0m\n\u001b[1;32m    194\u001b[0m \u001b[0;31m# load the XGBoost library globally\u001b[0m\u001b[0;34m\u001b[0m\u001b[0;34m\u001b[0m\u001b[0;34m\u001b[0m\u001b[0m\n\u001b[0;32m--> 195\u001b[0;31m \u001b[0m_LIB\u001b[0m \u001b[0;34m=\u001b[0m \u001b[0m_load_lib\u001b[0m\u001b[0;34m(\u001b[0m\u001b[0;34m)\u001b[0m\u001b[0;34m\u001b[0m\u001b[0;34m\u001b[0m\u001b[0m\n\u001b[0m\u001b[1;32m    196\u001b[0m \u001b[0;34m\u001b[0m\u001b[0m\n\u001b[1;32m    197\u001b[0m \u001b[0;34m\u001b[0m\u001b[0m\n",
      "\u001b[0;32m~/opt/anaconda3/lib/python3.8/site-packages/xgboost/core.py\u001b[0m in \u001b[0;36m_load_lib\u001b[0;34m()\u001b[0m\n\u001b[1;32m    176\u001b[0m     \u001b[0;32mif\u001b[0m \u001b[0;32mnot\u001b[0m \u001b[0mlib_success\u001b[0m\u001b[0;34m:\u001b[0m\u001b[0;34m\u001b[0m\u001b[0;34m\u001b[0m\u001b[0m\n\u001b[1;32m    177\u001b[0m         \u001b[0mlibname\u001b[0m \u001b[0;34m=\u001b[0m \u001b[0mos\u001b[0m\u001b[0;34m.\u001b[0m\u001b[0mpath\u001b[0m\u001b[0;34m.\u001b[0m\u001b[0mbasename\u001b[0m\u001b[0;34m(\u001b[0m\u001b[0mlib_paths\u001b[0m\u001b[0;34m[\u001b[0m\u001b[0;36m0\u001b[0m\u001b[0;34m]\u001b[0m\u001b[0;34m)\u001b[0m\u001b[0;34m\u001b[0m\u001b[0;34m\u001b[0m\u001b[0m\n\u001b[0;32m--> 178\u001b[0;31m         raise XGBoostError(\n\u001b[0m\u001b[1;32m    179\u001b[0m             \u001b[0;34m'XGBoost Library ({}) could not be loaded.\\n'\u001b[0m\u001b[0;34m.\u001b[0m\u001b[0mformat\u001b[0m\u001b[0;34m(\u001b[0m\u001b[0mlibname\u001b[0m\u001b[0;34m)\u001b[0m \u001b[0;34m+\u001b[0m\u001b[0;34m\u001b[0m\u001b[0;34m\u001b[0m\u001b[0m\n\u001b[1;32m    180\u001b[0m             \u001b[0;34m'Likely causes:\\n'\u001b[0m \u001b[0;34m+\u001b[0m\u001b[0;34m\u001b[0m\u001b[0;34m\u001b[0m\u001b[0m\n",
      "\u001b[0;31mXGBoostError\u001b[0m: XGBoost Library (libxgboost.dylib) could not be loaded.\nLikely causes:\n  * OpenMP runtime is not installed (vcomp140.dll or libgomp-1.dll for Windows, libomp.dylib for Mac OSX, libgomp.so for Linux and other UNIX-like OSes). Mac OSX users: Run `brew install libomp` to install OpenMP runtime.\n  * You are running 32-bit Python on a 64-bit OS\nError message(s): ['dlopen(/Users/lhabersham/opt/anaconda3/lib/python3.8/site-packages/xgboost/lib/libxgboost.dylib, 6): Library not loaded: /usr/local/opt/libomp/lib/libomp.dylib\\n  Referenced from: /Users/lhabersham/opt/anaconda3/lib/python3.8/site-packages/xgboost/lib/libxgboost.dylib\\n  Reason: image not found']\n"
     ]
    }
   ],
   "source": [
    "import xgboost as xgb\n",
    "from sklearn.model_selection import train_test_split\n"
   ]
  },
  {
   "cell_type": "code",
   "execution_count": null,
   "metadata": {
    "id": "EhftsqNY3Pwl"
   },
   "outputs": [],
   "source": [
    "# Remove the labels from the features\n",
    "X_data = test_df.drop('oscar_nominated', axis = 1)\n",
    "\n",
    "# Labels are the values we want to predict\n",
    "y = test_df.oscar_nominated"
   ]
  },
  {
   "cell_type": "code",
   "execution_count": null,
   "metadata": {
    "colab": {
     "base_uri": "https://localhost:8080/",
     "height": 419
    },
    "id": "TnW217TFBHS-",
    "outputId": "ade905ba-2905-4c72-c530-c57d6338155e"
   },
   "outputs": [],
   "source": [
    "X_data"
   ]
  },
  {
   "cell_type": "code",
   "execution_count": null,
   "metadata": {
    "id": "MltDuxhctexi"
   },
   "outputs": [],
   "source": [
    "#Split the dataset into train and Test\n",
    "seed = 7\n",
    "test_size = 0.3\n",
    "X_train, X_test, y_train, y_test = train_test_split(X_data, y, test_size=test_size, random_state=seed)\n"
   ]
  },
  {
   "cell_type": "markdown",
   "metadata": {
    "id": "Yi2obmWRLCfy"
   },
   "source": [
    "**MODELS 1 & 2**"
   ]
  },
  {
   "cell_type": "code",
   "execution_count": null,
   "metadata": {
    "id": "V97gjmjmtN5Z"
   },
   "outputs": [],
   "source": [
    "#Train the XGboost Model for Classification\n",
    "model1 = xgb.XGBClassifier(n_jobs= -1)\n",
    "model2 = xgb.XGBClassifier(n_estimators=100, max_depth=8, learning_rate=0.1, subsample=0.5)\n",
    "\n",
    "train_model1 = model1.fit(X_train, y_train)\n",
    "train_model2 = model2.fit(X_train, y_train)\n"
   ]
  },
  {
   "cell_type": "code",
   "execution_count": null,
   "metadata": {
    "colab": {
     "base_uri": "https://localhost:8080/"
    },
    "id": "CbZg1H6rtN-L",
    "outputId": "51bf329c-9d62-4e09-f7bd-2447241421d3"
   },
   "outputs": [],
   "source": [
    "#prediction and Classification Report\n",
    "from sklearn.metrics import classification_report\n",
    "\n",
    "pred1 = train_model1.predict(X_test)\n",
    "pred2 = train_model2.predict(X_test)\n",
    "\n",
    "print('Model 1 XGboost Report %r' % (classification_report(y_test, pred1)))\n",
    "print('Model 2 XGboost Report %r' % (classification_report(y_test, pred2)))"
   ]
  },
  {
   "cell_type": "code",
   "execution_count": null,
   "metadata": {
    "colab": {
     "base_uri": "https://localhost:8080/"
    },
    "id": "WHWUFy67tOA-",
    "outputId": "af5f5b06-bbfc-41d3-bafe-269371ba37c8"
   },
   "outputs": [],
   "source": [
    "#Let's use accuracy score\n",
    "from sklearn.metrics import accuracy_score\n",
    "\n",
    "print(\"Accuracy for model 1: %.2f\" % (accuracy_score(y_test, pred1) * 100))\n",
    "print(\"Accuracy for model 2: %.2f\" % (accuracy_score(y_test, pred2) * 100))"
   ]
  },
  {
   "cell_type": "markdown",
   "metadata": {
    "id": "V6Iaq_DRLOIr"
   },
   "source": [
    "**Model 3**"
   ]
  },
  {
   "cell_type": "code",
   "execution_count": null,
   "metadata": {
    "id": "C7Dm4VmXtODy"
   },
   "outputs": [],
   "source": [
    "#Let's do a little Gridsearch, Hyperparameter Tunning\n",
    "model3 = xgb.XGBClassifier(\n",
    " learning_rate =0.1,\n",
    " n_estimators=1000,\n",
    " max_depth=5,\n",
    " min_child_weight=1,\n",
    " gamma=0,\n",
    " subsample=0.8,\n",
    " colsample_bytree=0.8,\n",
    " objective= 'binary:logistic',\n",
    " nthread=4,\n",
    " scale_pos_weight=1,\n",
    " seed=27)"
   ]
  },
  {
   "cell_type": "code",
   "execution_count": null,
   "metadata": {
    "colab": {
     "base_uri": "https://localhost:8080/"
    },
    "id": "s_u8YK7ctOGf",
    "outputId": "23719dff-f720-4ca9-b709-096615e2ce9f"
   },
   "outputs": [],
   "source": [
    "train_model3 = model3.fit(X_train, y_train)\n",
    "pred3 = train_model3.predict(X_test)\n",
    "print(\"Accuracy for model 3: %.2f\" % (accuracy_score(y_test, pred3) * 100))"
   ]
  },
  {
   "cell_type": "markdown",
   "metadata": {
    "id": "37Zv1p4PLScB"
   },
   "source": [
    " **Model 4**"
   ]
  },
  {
   "cell_type": "code",
   "execution_count": null,
   "metadata": {
    "colab": {
     "base_uri": "https://localhost:8080/"
    },
    "id": "QKouw19ItOJP",
    "outputId": "2ae618db-dbc4-4518-e611-8c4ee82956e9"
   },
   "outputs": [],
   "source": [
    "from sklearn.model_selection import GridSearchCV\n",
    "\n",
    "param_test = {\n",
    " 'max_depth':[2,10,25],\n",
    " 'min_child_weight':[2,10,25]\n",
    "}\n",
    "gsearch = GridSearchCV(estimator = xgb.XGBClassifier( ), \n",
    " param_grid = param_test, scoring='accuracy',n_jobs=4,iid=False, cv=5, verbose =10)\n",
    "\n",
    "train_model4 = gsearch.fit(X_train, y_train)\n",
    "pred4 = train_model4.predict(X_test)\n",
    "print(\"Accuracy for model 4: %.2f\" % (accuracy_score(y_test, pred4) * 100))"
   ]
  },
  {
   "cell_type": "markdown",
   "metadata": {
    "id": "Xi6z9O5QaWpw"
   },
   "source": [
    "**Best accuracy was 88.85 from Model 2**"
   ]
  },
  {
   "cell_type": "code",
   "execution_count": null,
   "metadata": {
    "colab": {
     "base_uri": "https://localhost:8080/"
    },
    "id": "NAJzAWp_tOLs",
    "outputId": "7b975f19-8895-40c4-c278-7fa05017030a"
   },
   "outputs": [],
   "source": [
    "# Save best parameters as a variable from Model 2 \n",
    "xgb_best= xgb.XGBClassifier(n_estimators=100, max_depth=8, learning_rate=0.1, subsample=0.5)\n",
    "\n",
    "xgb_best.fit(X_data, y)"
   ]
  },
  {
   "cell_type": "code",
   "execution_count": null,
   "metadata": {
    "colab": {
     "base_uri": "https://localhost:8080/"
    },
    "id": "HF7uTGkttOOU",
    "outputId": "1091d08d-608e-492c-860a-5b1e7ac6a004"
   },
   "outputs": [],
   "source": [
    "# Export the SAV machine learning file \n",
    "import joblib\n",
    "\n",
    "joblib.dump(xgb_best, \"xgb_oscars.joblib\")"
   ]
  },
  {
   "cell_type": "code",
   "execution_count": null,
   "metadata": {
    "id": "zBvCx-TptOQ_"
   },
   "outputs": [],
   "source": []
  },
  {
   "cell_type": "markdown",
   "metadata": {
    "id": "fv2ldIF6YyEp"
   },
   "source": [
    "**Visualize best parameters of the model and weights of features**\n"
   ]
  },
  {
   "cell_type": "code",
   "execution_count": null,
   "metadata": {
    "colab": {
     "base_uri": "https://localhost:8080/"
    },
    "id": "GB_SDuveY9BK",
    "outputId": "8afb66bc-4d01-426b-a5ed-b298fa346516"
   },
   "outputs": [],
   "source": [
    "# Save features columns as a list \n",
    "columns_list = list(test_df.columns)[0:-1]\n",
    "columns_list"
   ]
  },
  {
   "cell_type": "code",
   "execution_count": null,
   "metadata": {
    "colab": {
     "base_uri": "https://localhost:8080/"
    },
    "id": "fi5TPYrGtOTz",
    "outputId": "d8c519bb-9934-4b89-eb49-c2324175b469"
   },
   "outputs": [],
   "source": [
    "# Find the weights of each feature and how they impact the score\n",
    "feature_imp = pd.Series(train_model2.feature_importances_,index=columns_list).sort_values(ascending=False)\n",
    "feature_imp"
   ]
  },
  {
   "cell_type": "code",
   "execution_count": null,
   "metadata": {
    "colab": {
     "base_uri": "https://localhost:8080/",
     "height": 329
    },
    "id": "v_oPsqTOtOWH",
    "outputId": "dee12e4d-b71e-43e2-d311-5ea32861b8ee"
   },
   "outputs": [],
   "source": [
    "import matplotlib.pyplot as plt\n",
    "import seaborn as sns\n",
    "%matplotlib inline\n",
    "\n",
    "# Creating a bar plot\n",
    "sns.barplot(x=feature_imp, y=feature_imp.index)\n",
    "\n",
    "# Add labels to your graph\n",
    "plt.xlabel('Feature Importance Score')\n",
    "plt.ylabel('Features')\n",
    "plt.title(\"Visualizing Important Features\")\n",
    "plt.legend()\n",
    "plt.show()\n",
    "plt.savefig('xgbmodel2_importantfeatures.png')"
   ]
  },
  {
   "cell_type": "code",
   "execution_count": null,
   "metadata": {
    "id": "4QPL1u2FY-2y"
   },
   "outputs": [],
   "source": []
  }
 ],
 "metadata": {
  "colab": {
   "collapsed_sections": [],
   "name": "XGBoost.ipynb",
   "provenance": []
  },
  "kernelspec": {
   "display_name": "Python 3",
   "language": "python",
   "name": "python3"
  },
  "language_info": {
   "codemirror_mode": {
    "name": "ipython",
    "version": 3
   },
   "file_extension": ".py",
   "mimetype": "text/x-python",
   "name": "python",
   "nbconvert_exporter": "python",
   "pygments_lexer": "ipython3",
   "version": "3.8.3"
  }
 },
 "nbformat": 4,
 "nbformat_minor": 1
}
