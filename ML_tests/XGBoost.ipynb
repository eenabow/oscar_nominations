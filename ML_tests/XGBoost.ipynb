{
 "cells": [
  {
   "cell_type": "code",
   "execution_count": 1,
   "metadata": {
    "id": "njnIROS1705K"
   },
   "outputs": [],
   "source": [
    "# Import dependencies\n",
    "import pandas as pd\n",
    "import numpy as np"
   ]
  },
  {
   "cell_type": "markdown",
   "metadata": {
    "id": "BXmB7q_W72-g"
   },
   "source": [
    "## **Loading in CSV**"
   ]
  },
  {
   "cell_type": "code",
   "execution_count": 2,
   "metadata": {
    "id": "sS1ltylf70-f"
   },
   "outputs": [],
   "source": [
    "# Read in raw data of test_df from github\n",
    "url = 'https://raw.githubusercontent.com/eenabow/oscar_nominations/main/data/oscars2_df.csv'\n",
    "test_df = pd.read_csv(url, index_col=None)"
   ]
  },
  {
   "cell_type": "code",
   "execution_count": 3,
   "metadata": {
    "colab": {
     "base_uri": "https://localhost:8080/",
     "height": 238
    },
    "id": "AUDZfFQ-71BK",
    "outputId": "aecc8692-7e01-46c4-9e2c-eaffd03c0f70"
   },
   "outputs": [
    {
     "data": {
      "text/html": [
       "<div>\n",
       "<style scoped>\n",
       "    .dataframe tbody tr th:only-of-type {\n",
       "        vertical-align: middle;\n",
       "    }\n",
       "\n",
       "    .dataframe tbody tr th {\n",
       "        vertical-align: top;\n",
       "    }\n",
       "\n",
       "    .dataframe thead th {\n",
       "        text-align: right;\n",
       "    }\n",
       "</style>\n",
       "<table border=\"1\" class=\"dataframe\">\n",
       "  <thead>\n",
       "    <tr style=\"text-align: right;\">\n",
       "      <th></th>\n",
       "      <th>movie</th>\n",
       "      <th>duration</th>\n",
       "      <th>metascore</th>\n",
       "      <th>gross</th>\n",
       "      <th>critic_reviews</th>\n",
       "      <th>awards_wins</th>\n",
       "      <th>popularity</th>\n",
       "      <th>awards_nominations</th>\n",
       "      <th>golden_globes_nominated</th>\n",
       "      <th>oscar_nominated</th>\n",
       "    </tr>\n",
       "  </thead>\n",
       "  <tbody>\n",
       "    <tr>\n",
       "      <th>0</th>\n",
       "      <td>Kate &amp; Leopold</td>\n",
       "      <td>118</td>\n",
       "      <td>44.0</td>\n",
       "      <td>47100000.0</td>\n",
       "      <td>125.0</td>\n",
       "      <td>1</td>\n",
       "      <td>2363.0</td>\n",
       "      <td>4</td>\n",
       "      <td>2</td>\n",
       "      <td>1</td>\n",
       "    </tr>\n",
       "    <tr>\n",
       "      <th>1</th>\n",
       "      <td>Chicken Run</td>\n",
       "      <td>84</td>\n",
       "      <td>88.0</td>\n",
       "      <td>106790000.0</td>\n",
       "      <td>186.0</td>\n",
       "      <td>5</td>\n",
       "      <td>2859.0</td>\n",
       "      <td>11</td>\n",
       "      <td>1</td>\n",
       "      <td>0</td>\n",
       "    </tr>\n",
       "    <tr>\n",
       "      <th>2</th>\n",
       "      <td>Fantastic Four</td>\n",
       "      <td>106</td>\n",
       "      <td>40.0</td>\n",
       "      <td>154700000.0</td>\n",
       "      <td>278.0</td>\n",
       "      <td>0</td>\n",
       "      <td>1876.0</td>\n",
       "      <td>0</td>\n",
       "      <td>0</td>\n",
       "      <td>0</td>\n",
       "    </tr>\n",
       "    <tr>\n",
       "      <th>3</th>\n",
       "      <td>Frida</td>\n",
       "      <td>123</td>\n",
       "      <td>61.0</td>\n",
       "      <td>25780000.0</td>\n",
       "      <td>126.0</td>\n",
       "      <td>2</td>\n",
       "      <td>2508.0</td>\n",
       "      <td>12</td>\n",
       "      <td>2</td>\n",
       "      <td>1</td>\n",
       "    </tr>\n",
       "    <tr>\n",
       "      <th>4</th>\n",
       "      <td>The Lord of the Rings: The Fellowship of the Ring</td>\n",
       "      <td>178</td>\n",
       "      <td>92.0</td>\n",
       "      <td>313840000.0</td>\n",
       "      <td>296.0</td>\n",
       "      <td>26</td>\n",
       "      <td>204.0</td>\n",
       "      <td>67</td>\n",
       "      <td>4</td>\n",
       "      <td>1</td>\n",
       "    </tr>\n",
       "  </tbody>\n",
       "</table>\n",
       "</div>"
      ],
      "text/plain": [
       "                                               movie  duration  metascore  \\\n",
       "0                                     Kate & Leopold       118       44.0   \n",
       "1                                        Chicken Run        84       88.0   \n",
       "2                                     Fantastic Four       106       40.0   \n",
       "3                                              Frida       123       61.0   \n",
       "4  The Lord of the Rings: The Fellowship of the Ring       178       92.0   \n",
       "\n",
       "         gross  critic_reviews  awards_wins  popularity  awards_nominations  \\\n",
       "0   47100000.0           125.0            1      2363.0                   4   \n",
       "1  106790000.0           186.0            5      2859.0                  11   \n",
       "2  154700000.0           278.0            0      1876.0                   0   \n",
       "3   25780000.0           126.0            2      2508.0                  12   \n",
       "4  313840000.0           296.0           26       204.0                  67   \n",
       "\n",
       "   golden_globes_nominated  oscar_nominated  \n",
       "0                        2                1  \n",
       "1                        1                0  \n",
       "2                        0                0  \n",
       "3                        2                1  \n",
       "4                        4                1  "
      ]
     },
     "execution_count": 3,
     "metadata": {},
     "output_type": "execute_result"
    }
   ],
   "source": [
    "test_df.head()"
   ]
  },
  {
   "cell_type": "code",
   "execution_count": 4,
   "metadata": {
    "id": "UNJ0ozco71Dg"
   },
   "outputs": [],
   "source": [
    "# Will need to remove movie from test_df for actual model \n",
    "test_df = test_df[[\"duration\", \"metascore\", \"gross\", \"critic_reviews\", \"awards_wins\", \"popularity\", \"awards_nominations\", \"golden_globes_nominated\", \"oscar_nominated\"]]"
   ]
  },
  {
   "cell_type": "markdown",
   "metadata": {
    "id": "MvflT4FS8E9B"
   },
   "source": [
    "**XGBoost Machine Learning using GridSearch** "
   ]
  },
  {
   "cell_type": "code",
   "execution_count": 5,
   "metadata": {
    "id": "BLvF7Pcq8KPA"
   },
   "outputs": [],
   "source": [
    "import xgboost as xgb\n",
    "from sklearn.model_selection import train_test_split\n"
   ]
  },
  {
   "cell_type": "code",
   "execution_count": 6,
   "metadata": {
    "id": "EhftsqNY3Pwl"
   },
   "outputs": [],
   "source": [
    "# Remove the labels from the features\n",
    "X_data = test_df.drop('oscar_nominated', axis = 1)\n",
    "\n",
    "# Labels are the values we want to predict\n",
    "y = test_df.oscar_nominated"
   ]
  },
  {
   "cell_type": "code",
   "execution_count": 7,
   "metadata": {
    "colab": {
     "base_uri": "https://localhost:8080/",
     "height": 419
    },
    "id": "TnW217TFBHS-",
    "outputId": "ade905ba-2905-4c72-c530-c57d6338155e"
   },
   "outputs": [
    {
     "data": {
      "text/html": [
       "<div>\n",
       "<style scoped>\n",
       "    .dataframe tbody tr th:only-of-type {\n",
       "        vertical-align: middle;\n",
       "    }\n",
       "\n",
       "    .dataframe tbody tr th {\n",
       "        vertical-align: top;\n",
       "    }\n",
       "\n",
       "    .dataframe thead th {\n",
       "        text-align: right;\n",
       "    }\n",
       "</style>\n",
       "<table border=\"1\" class=\"dataframe\">\n",
       "  <thead>\n",
       "    <tr style=\"text-align: right;\">\n",
       "      <th></th>\n",
       "      <th>duration</th>\n",
       "      <th>metascore</th>\n",
       "      <th>gross</th>\n",
       "      <th>critic_reviews</th>\n",
       "      <th>awards_wins</th>\n",
       "      <th>popularity</th>\n",
       "      <th>awards_nominations</th>\n",
       "      <th>golden_globes_nominated</th>\n",
       "    </tr>\n",
       "  </thead>\n",
       "  <tbody>\n",
       "    <tr>\n",
       "      <th>0</th>\n",
       "      <td>118</td>\n",
       "      <td>44.0</td>\n",
       "      <td>47100000.0</td>\n",
       "      <td>125.0</td>\n",
       "      <td>1</td>\n",
       "      <td>2363.0</td>\n",
       "      <td>4</td>\n",
       "      <td>2</td>\n",
       "    </tr>\n",
       "    <tr>\n",
       "      <th>1</th>\n",
       "      <td>84</td>\n",
       "      <td>88.0</td>\n",
       "      <td>106790000.0</td>\n",
       "      <td>186.0</td>\n",
       "      <td>5</td>\n",
       "      <td>2859.0</td>\n",
       "      <td>11</td>\n",
       "      <td>1</td>\n",
       "    </tr>\n",
       "    <tr>\n",
       "      <th>2</th>\n",
       "      <td>106</td>\n",
       "      <td>40.0</td>\n",
       "      <td>154700000.0</td>\n",
       "      <td>278.0</td>\n",
       "      <td>0</td>\n",
       "      <td>1876.0</td>\n",
       "      <td>0</td>\n",
       "      <td>0</td>\n",
       "    </tr>\n",
       "    <tr>\n",
       "      <th>3</th>\n",
       "      <td>123</td>\n",
       "      <td>61.0</td>\n",
       "      <td>25780000.0</td>\n",
       "      <td>126.0</td>\n",
       "      <td>2</td>\n",
       "      <td>2508.0</td>\n",
       "      <td>12</td>\n",
       "      <td>2</td>\n",
       "    </tr>\n",
       "    <tr>\n",
       "      <th>4</th>\n",
       "      <td>178</td>\n",
       "      <td>92.0</td>\n",
       "      <td>313840000.0</td>\n",
       "      <td>296.0</td>\n",
       "      <td>26</td>\n",
       "      <td>204.0</td>\n",
       "      <td>67</td>\n",
       "      <td>4</td>\n",
       "    </tr>\n",
       "    <tr>\n",
       "      <th>...</th>\n",
       "      <td>...</td>\n",
       "      <td>...</td>\n",
       "      <td>...</td>\n",
       "      <td>...</td>\n",
       "      <td>...</td>\n",
       "      <td>...</td>\n",
       "      <td>...</td>\n",
       "      <td>...</td>\n",
       "    </tr>\n",
       "    <tr>\n",
       "      <th>1039</th>\n",
       "      <td>132</td>\n",
       "      <td>93.0</td>\n",
       "      <td>11300000.0</td>\n",
       "      <td>300.0</td>\n",
       "      <td>15</td>\n",
       "      <td>7.0</td>\n",
       "      <td>55</td>\n",
       "      <td>3</td>\n",
       "    </tr>\n",
       "    <tr>\n",
       "      <th>1040</th>\n",
       "      <td>130</td>\n",
       "      <td>90.0</td>\n",
       "      <td>10710000.0</td>\n",
       "      <td>180.0</td>\n",
       "      <td>9</td>\n",
       "      <td>11.0</td>\n",
       "      <td>30</td>\n",
       "      <td>2</td>\n",
       "    </tr>\n",
       "    <tr>\n",
       "      <th>1041</th>\n",
       "      <td>111</td>\n",
       "      <td>58.0</td>\n",
       "      <td>22250000.0</td>\n",
       "      <td>164.0</td>\n",
       "      <td>1</td>\n",
       "      <td>151.0</td>\n",
       "      <td>5</td>\n",
       "      <td>1</td>\n",
       "    </tr>\n",
       "    <tr>\n",
       "      <th>1042</th>\n",
       "      <td>122</td>\n",
       "      <td>58.0</td>\n",
       "      <td>11940000.0</td>\n",
       "      <td>86.0</td>\n",
       "      <td>0</td>\n",
       "      <td>115.0</td>\n",
       "      <td>2</td>\n",
       "      <td>1</td>\n",
       "    </tr>\n",
       "    <tr>\n",
       "      <th>1043</th>\n",
       "      <td>116</td>\n",
       "      <td>83.0</td>\n",
       "      <td>58790000.0</td>\n",
       "      <td>291.0</td>\n",
       "      <td>0</td>\n",
       "      <td>6.0</td>\n",
       "      <td>22</td>\n",
       "      <td>6</td>\n",
       "    </tr>\n",
       "  </tbody>\n",
       "</table>\n",
       "<p>1044 rows × 8 columns</p>\n",
       "</div>"
      ],
      "text/plain": [
       "      duration  metascore        gross  critic_reviews  awards_wins  \\\n",
       "0          118       44.0   47100000.0           125.0            1   \n",
       "1           84       88.0  106790000.0           186.0            5   \n",
       "2          106       40.0  154700000.0           278.0            0   \n",
       "3          123       61.0   25780000.0           126.0            2   \n",
       "4          178       92.0  313840000.0           296.0           26   \n",
       "...        ...        ...          ...             ...          ...   \n",
       "1039       132       93.0   11300000.0           300.0           15   \n",
       "1040       130       90.0   10710000.0           180.0            9   \n",
       "1041       111       58.0   22250000.0           164.0            1   \n",
       "1042       122       58.0   11940000.0            86.0            0   \n",
       "1043       116       83.0   58790000.0           291.0            0   \n",
       "\n",
       "      popularity  awards_nominations  golden_globes_nominated  \n",
       "0         2363.0                   4                        2  \n",
       "1         2859.0                  11                        1  \n",
       "2         1876.0                   0                        0  \n",
       "3         2508.0                  12                        2  \n",
       "4          204.0                  67                        4  \n",
       "...          ...                 ...                      ...  \n",
       "1039         7.0                  55                        3  \n",
       "1040        11.0                  30                        2  \n",
       "1041       151.0                   5                        1  \n",
       "1042       115.0                   2                        1  \n",
       "1043         6.0                  22                        6  \n",
       "\n",
       "[1044 rows x 8 columns]"
      ]
     },
     "execution_count": 7,
     "metadata": {},
     "output_type": "execute_result"
    }
   ],
   "source": [
    "X_data"
   ]
  },
  {
   "cell_type": "code",
   "execution_count": 8,
   "metadata": {
    "id": "MltDuxhctexi"
   },
   "outputs": [],
   "source": [
    "#Split the dataset into train and Test\n",
    "seed = 7\n",
    "test_size = 0.3\n",
    "X_train, X_test, y_train, y_test = train_test_split(X_data, y, test_size=test_size, random_state=seed)\n"
   ]
  },
  {
   "cell_type": "markdown",
   "metadata": {
    "id": "Yi2obmWRLCfy"
   },
   "source": [
    "**MODELS 1 & 2**"
   ]
  },
  {
   "cell_type": "code",
   "execution_count": 9,
   "metadata": {
    "id": "V97gjmjmtN5Z"
   },
   "outputs": [
    {
     "name": "stderr",
     "output_type": "stream",
     "text": [
      "/Users/lhabersham/opt/anaconda3/lib/python3.8/site-packages/xgboost/sklearn.py:1146: UserWarning: The use of label encoder in XGBClassifier is deprecated and will be removed in a future release. To remove this warning, do the following: 1) Pass option use_label_encoder=False when constructing XGBClassifier object; and 2) Encode your labels (y) as integers starting with 0, i.e. 0, 1, 2, ..., [num_class - 1].\n",
      "  warnings.warn(label_encoder_deprecation_msg, UserWarning)\n"
     ]
    },
    {
     "name": "stdout",
     "output_type": "stream",
     "text": [
      "[11:36:20] WARNING: /Users/travis/build/dmlc/xgboost/src/learner.cc:1095: Starting in XGBoost 1.3.0, the default evaluation metric used with the objective 'binary:logistic' was changed from 'error' to 'logloss'. Explicitly set eval_metric if you'd like to restore the old behavior.\n",
      "[11:36:21] WARNING: /Users/travis/build/dmlc/xgboost/src/learner.cc:1095: Starting in XGBoost 1.3.0, the default evaluation metric used with the objective 'binary:logistic' was changed from 'error' to 'logloss'. Explicitly set eval_metric if you'd like to restore the old behavior.\n"
     ]
    }
   ],
   "source": [
    "#Train the XGboost Model for Classification\n",
    "model1 = xgb.XGBClassifier(n_jobs= -1)\n",
    "model2 = xgb.XGBClassifier(n_estimators=100, max_depth=8, learning_rate=0.1, subsample=0.5)\n",
    "\n",
    "train_model1 = model1.fit(X_train, y_train)\n",
    "train_model2 = model2.fit(X_train, y_train)\n"
   ]
  },
  {
   "cell_type": "code",
   "execution_count": 10,
   "metadata": {
    "colab": {
     "base_uri": "https://localhost:8080/"
    },
    "id": "CbZg1H6rtN-L",
    "outputId": "51bf329c-9d62-4e09-f7bd-2447241421d3"
   },
   "outputs": [
    {
     "name": "stdout",
     "output_type": "stream",
     "text": [
      "Model 1 XGboost Report '              precision    recall  f1-score   support\\n\\n           0       0.87      0.87      0.87       158\\n           1       0.87      0.87      0.87       156\\n\\n    accuracy                           0.87       314\\n   macro avg       0.87      0.87      0.87       314\\nweighted avg       0.87      0.87      0.87       314\\n'\n",
      "Model 2 XGboost Report '              precision    recall  f1-score   support\\n\\n           0       0.89      0.89      0.89       158\\n           1       0.89      0.88      0.89       156\\n\\n    accuracy                           0.89       314\\n   macro avg       0.89      0.89      0.89       314\\nweighted avg       0.89      0.89      0.89       314\\n'\n"
     ]
    },
    {
     "name": "stderr",
     "output_type": "stream",
     "text": [
      "/Users/lhabersham/opt/anaconda3/lib/python3.8/site-packages/xgboost/data.py:112: UserWarning: Use subset (sliced data) of np.ndarray is not recommended because it will generate extra copies and increase memory consumption\n",
      "  warnings.warn(\n"
     ]
    }
   ],
   "source": [
    "#prediction and Classification Report\n",
    "from sklearn.metrics import classification_report\n",
    "\n",
    "pred1 = train_model1.predict(X_test)\n",
    "pred2 = train_model2.predict(X_test)\n",
    "\n",
    "print('Model 1 XGboost Report %r' % (classification_report(y_test, pred1)))\n",
    "print('Model 2 XGboost Report %r' % (classification_report(y_test, pred2)))"
   ]
  },
  {
   "cell_type": "code",
   "execution_count": 11,
   "metadata": {
    "colab": {
     "base_uri": "https://localhost:8080/"
    },
    "id": "WHWUFy67tOA-",
    "outputId": "af5f5b06-bbfc-41d3-bafe-269371ba37c8"
   },
   "outputs": [
    {
     "name": "stdout",
     "output_type": "stream",
     "text": [
      "Accuracy for model 1: 86.94\n",
      "Accuracy for model 2: 88.85\n"
     ]
    }
   ],
   "source": [
    "#Let's use accuracy score\n",
    "from sklearn.metrics import accuracy_score\n",
    "\n",
    "print(\"Accuracy for model 1: %.2f\" % (accuracy_score(y_test, pred1) * 100))\n",
    "print(\"Accuracy for model 2: %.2f\" % (accuracy_score(y_test, pred2) * 100))"
   ]
  },
  {
   "cell_type": "markdown",
   "metadata": {
    "id": "V6Iaq_DRLOIr"
   },
   "source": [
    "**Model 3**"
   ]
  },
  {
   "cell_type": "code",
   "execution_count": 12,
   "metadata": {
    "id": "C7Dm4VmXtODy"
   },
   "outputs": [],
   "source": [
    "#Let's do a little Gridsearch, Hyperparameter Tunning\n",
    "model3 = xgb.XGBClassifier(\n",
    " learning_rate =0.1,\n",
    " n_estimators=1000,\n",
    " max_depth=5,\n",
    " min_child_weight=1,\n",
    " gamma=0,\n",
    " subsample=0.8,\n",
    " colsample_bytree=0.8,\n",
    " objective= 'binary:logistic',\n",
    " nthread=4,\n",
    " scale_pos_weight=1,\n",
    " seed=27)"
   ]
  },
  {
   "cell_type": "code",
   "execution_count": 13,
   "metadata": {
    "colab": {
     "base_uri": "https://localhost:8080/"
    },
    "id": "s_u8YK7ctOGf",
    "outputId": "23719dff-f720-4ca9-b709-096615e2ce9f"
   },
   "outputs": [
    {
     "name": "stdout",
     "output_type": "stream",
     "text": [
      "[11:36:21] WARNING: /Users/travis/build/dmlc/xgboost/src/learner.cc:1095: Starting in XGBoost 1.3.0, the default evaluation metric used with the objective 'binary:logistic' was changed from 'error' to 'logloss'. Explicitly set eval_metric if you'd like to restore the old behavior.\n",
      "Accuracy for model 3: 85.67\n"
     ]
    }
   ],
   "source": [
    "train_model3 = model3.fit(X_train, y_train)\n",
    "pred3 = train_model3.predict(X_test)\n",
    "print(\"Accuracy for model 3: %.2f\" % (accuracy_score(y_test, pred3) * 100))"
   ]
  },
  {
   "cell_type": "markdown",
   "metadata": {
    "id": "37Zv1p4PLScB"
   },
   "source": [
    " **Model 4**"
   ]
  },
  {
   "cell_type": "code",
   "execution_count": 14,
   "metadata": {
    "colab": {
     "base_uri": "https://localhost:8080/"
    },
    "id": "QKouw19ItOJP",
    "outputId": "2ae618db-dbc4-4518-e611-8c4ee82956e9"
   },
   "outputs": [
    {
     "name": "stdout",
     "output_type": "stream",
     "text": [
      "Fitting 5 folds for each of 9 candidates, totalling 45 fits\n"
     ]
    },
    {
     "name": "stderr",
     "output_type": "stream",
     "text": [
      "[Parallel(n_jobs=4)]: Using backend LokyBackend with 4 concurrent workers.\n",
      "[Parallel(n_jobs=4)]: Done   5 tasks      | elapsed:    4.3s\n",
      "[Parallel(n_jobs=4)]: Done  10 tasks      | elapsed:    4.9s\n",
      "[Parallel(n_jobs=4)]: Done  17 tasks      | elapsed:    6.5s\n",
      "[Parallel(n_jobs=4)]: Done  24 tasks      | elapsed:    8.0s\n",
      "[Parallel(n_jobs=4)]: Done  33 tasks      | elapsed:    9.5s\n",
      "[Parallel(n_jobs=4)]: Done  43 out of  45 | elapsed:   11.5s remaining:    0.5s\n",
      "[Parallel(n_jobs=4)]: Done  45 out of  45 | elapsed:   11.5s finished\n",
      "/Users/lhabersham/opt/anaconda3/lib/python3.8/site-packages/sklearn/model_selection/_search.py:847: FutureWarning: The parameter 'iid' is deprecated in 0.22 and will be removed in 0.24.\n",
      "  warnings.warn(\n",
      "/Users/lhabersham/opt/anaconda3/lib/python3.8/site-packages/xgboost/sklearn.py:1146: UserWarning: The use of label encoder in XGBClassifier is deprecated and will be removed in a future release. To remove this warning, do the following: 1) Pass option use_label_encoder=False when constructing XGBClassifier object; and 2) Encode your labels (y) as integers starting with 0, i.e. 0, 1, 2, ..., [num_class - 1].\n",
      "  warnings.warn(label_encoder_deprecation_msg, UserWarning)\n"
     ]
    },
    {
     "name": "stdout",
     "output_type": "stream",
     "text": [
      "[11:36:34] WARNING: /Users/travis/build/dmlc/xgboost/src/learner.cc:1095: Starting in XGBoost 1.3.0, the default evaluation metric used with the objective 'binary:logistic' was changed from 'error' to 'logloss'. Explicitly set eval_metric if you'd like to restore the old behavior.\n",
      "Accuracy for model 4: 87.58\n"
     ]
    },
    {
     "name": "stderr",
     "output_type": "stream",
     "text": [
      "/Users/lhabersham/opt/anaconda3/lib/python3.8/site-packages/xgboost/data.py:112: UserWarning: Use subset (sliced data) of np.ndarray is not recommended because it will generate extra copies and increase memory consumption\n",
      "  warnings.warn(\n"
     ]
    }
   ],
   "source": [
    "from sklearn.model_selection import GridSearchCV\n",
    "\n",
    "param_test = {\n",
    " 'max_depth':[2,10,25],\n",
    " 'min_child_weight':[2,10,25]\n",
    "}\n",
    "gsearch = GridSearchCV(estimator = xgb.XGBClassifier( ), \n",
    " param_grid = param_test, scoring='accuracy',n_jobs=4,iid=False, cv=5, verbose =10)\n",
    "\n",
    "train_model4 = gsearch.fit(X_train, y_train)\n",
    "pred4 = train_model4.predict(X_test)\n",
    "print(\"Accuracy for model 4: %.2f\" % (accuracy_score(y_test, pred4) * 100))"
   ]
  },
  {
   "cell_type": "markdown",
   "metadata": {
    "id": "Xi6z9O5QaWpw"
   },
   "source": [
    "**Best accuracy was 88.85 from Model 2**"
   ]
  },
  {
   "cell_type": "code",
   "execution_count": 15,
   "metadata": {
    "colab": {
     "base_uri": "https://localhost:8080/"
    },
    "id": "NAJzAWp_tOLs",
    "outputId": "7b975f19-8895-40c4-c278-7fa05017030a"
   },
   "outputs": [
    {
     "name": "stdout",
     "output_type": "stream",
     "text": [
      "[11:36:34] WARNING: /Users/travis/build/dmlc/xgboost/src/learner.cc:1095: Starting in XGBoost 1.3.0, the default evaluation metric used with the objective 'binary:logistic' was changed from 'error' to 'logloss'. Explicitly set eval_metric if you'd like to restore the old behavior.\n"
     ]
    },
    {
     "data": {
      "text/plain": [
       "XGBClassifier(base_score=0.5, booster='gbtree', colsample_bylevel=1,\n",
       "              colsample_bynode=1, colsample_bytree=1, gamma=0, gpu_id=-1,\n",
       "              importance_type='gain', interaction_constraints='',\n",
       "              learning_rate=0.1, max_delta_step=0, max_depth=8,\n",
       "              min_child_weight=1, missing=nan, monotone_constraints='()',\n",
       "              n_estimators=100, n_jobs=4, num_parallel_tree=1, random_state=0,\n",
       "              reg_alpha=0, reg_lambda=1, scale_pos_weight=1, subsample=0.5,\n",
       "              tree_method='exact', validate_parameters=1, verbosity=None)"
      ]
     },
     "execution_count": 15,
     "metadata": {},
     "output_type": "execute_result"
    }
   ],
   "source": [
    "# Save best parameters as a variable from Model 2 \n",
    "xgb_best= xgb.XGBClassifier(n_estimators=100, max_depth=8, learning_rate=0.1, subsample=0.5)\n",
    "\n",
    "xgb_best.fit(X_data, y)"
   ]
  },
  {
   "cell_type": "code",
   "execution_count": 16,
   "metadata": {
    "colab": {
     "base_uri": "https://localhost:8080/"
    },
    "id": "HF7uTGkttOOU",
    "outputId": "1091d08d-608e-492c-860a-5b1e7ac6a004"
   },
   "outputs": [
    {
     "data": {
      "text/plain": [
       "['xgb_oscars.joblib']"
      ]
     },
     "execution_count": 16,
     "metadata": {},
     "output_type": "execute_result"
    }
   ],
   "source": [
    "# Export the SAV machine learning file \n",
    "import joblib\n",
    "\n",
    "joblib.dump(xgb_best, \"xgb_oscars.joblib\")"
   ]
  },
  {
   "cell_type": "markdown",
   "metadata": {
    "id": "fv2ldIF6YyEp"
   },
   "source": [
    "**Visualize best parameters of the model and weights of features**\n"
   ]
  },
  {
   "cell_type": "code",
   "execution_count": 17,
   "metadata": {
    "colab": {
     "base_uri": "https://localhost:8080/"
    },
    "id": "GB_SDuveY9BK",
    "outputId": "8afb66bc-4d01-426b-a5ed-b298fa346516"
   },
   "outputs": [
    {
     "data": {
      "text/plain": [
       "['duration',\n",
       " 'metascore',\n",
       " 'gross',\n",
       " 'critic_reviews',\n",
       " 'awards_wins',\n",
       " 'popularity',\n",
       " 'awards_nominations',\n",
       " 'golden_globes_nominated']"
      ]
     },
     "execution_count": 17,
     "metadata": {},
     "output_type": "execute_result"
    }
   ],
   "source": [
    "# Save features columns as a list \n",
    "columns_list = list(test_df.columns)[0:-1]\n",
    "columns_list"
   ]
  },
  {
   "cell_type": "code",
   "execution_count": 18,
   "metadata": {
    "colab": {
     "base_uri": "https://localhost:8080/"
    },
    "id": "fi5TPYrGtOTz",
    "outputId": "d8c519bb-9934-4b89-eb49-c2324175b469"
   },
   "outputs": [
    {
     "data": {
      "text/plain": [
       "awards_nominations         0.389193\n",
       "golden_globes_nominated    0.146773\n",
       "awards_wins                0.093654\n",
       "popularity                 0.092385\n",
       "gross                      0.072624\n",
       "metascore                  0.072149\n",
       "duration                   0.069429\n",
       "critic_reviews             0.063794\n",
       "dtype: float32"
      ]
     },
     "execution_count": 18,
     "metadata": {},
     "output_type": "execute_result"
    }
   ],
   "source": [
    "# Find the weights of each feature and how they impact the score\n",
    "feature_imp = pd.Series(train_model2.feature_importances_,index=columns_list).sort_values(ascending=False)\n",
    "feature_imp"
   ]
  },
  {
   "cell_type": "code",
   "execution_count": 19,
   "metadata": {
    "colab": {
     "base_uri": "https://localhost:8080/",
     "height": 329
    },
    "id": "v_oPsqTOtOWH",
    "outputId": "dee12e4d-b71e-43e2-d311-5ea32861b8ee"
   },
   "outputs": [
    {
     "name": "stderr",
     "output_type": "stream",
     "text": [
      "No handles with labels found to put in legend.\n"
     ]
    },
    {
     "data": {
      "image/png": "[encoded data removed]",
      "text/plain": [
       "<Figure size 432x288 with 1 Axes>"
      ]
     },
     "metadata": {
      "needs_background": "light"
     },
     "output_type": "display_data"
    },
    {
     "data": {
      "text/plain": [
       "<Figure size 432x288 with 0 Axes>"
      ]
     },
     "metadata": {},
     "output_type": "display_data"
    }
   ],
   "source": [
    "import matplotlib.pyplot as plt\n",
    "import seaborn as sns\n",
    "%matplotlib inline\n",
    "\n",
    "# Creating a bar plot\n",
    "sns.barplot(x=feature_imp, y=feature_imp.index)\n",
    "\n",
    "# Add labels to your graph\n",
    "plt.xlabel('Feature Importance Score')\n",
    "plt.ylabel('Features')\n",
    "plt.title(\"Visualizing Important Features\")\n",
    "plt.legend()\n",
    "plt.show()\n",
    "plt.savefig('xgbmodel2_importantfeatures.png')"
   ]
  }
 ],
 "metadata": {
  "colab": {
   "collapsed_sections": [],
   "name": "XGBoost.ipynb",
   "provenance": []
  },
  "kernelspec": {
   "display_name": "Python 3",
   "language": "python",
   "name": "python3"
  },
  "language_info": {
   "codemirror_mode": {
    "name": "ipython",
    "version": 3
   },
   "file_extension": ".py",
   "mimetype": "text/x-python",
   "name": "python",
   "nbconvert_exporter": "python",
   "pygments_lexer": "ipython3",
   "version": "3.8.3"
  }
 },
 "nbformat": 4,
 "nbformat_minor": 1
}
