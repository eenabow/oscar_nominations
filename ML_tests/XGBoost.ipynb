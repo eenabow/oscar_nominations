{
  "nbformat": 4,
  "nbformat_minor": 0,
  "metadata": {
    "colab": {
      "name": "XGBoost.ipynb",
      "provenance": [],
      "collapsed_sections": []
    },
    "kernelspec": {
      "name": "python3",
      "display_name": "Python 3"
    },
    "language_info": {
      "name": "python"
    }
  },
  "cells": [
    {
      "cell_type": "code",
      "metadata": {
        "id": "njnIROS1705K"
      },
      "source": [
        "# Import dependencies\n",
        "import pandas as pd\n",
        "import numpy as np"
      ],
      "execution_count": 1,
      "outputs": []
    },
    {
      "cell_type": "markdown",
      "metadata": {
        "id": "BXmB7q_W72-g"
      },
      "source": [
        "## **Loading in CSV**"
      ]
    },
    {
      "cell_type": "code",
      "metadata": {
        "id": "sS1ltylf70-f"
      },
      "source": [
        "# Read in raw data of test_df from github\n",
        "url = 'https://raw.githubusercontent.com/eenabow/oscar_nominations/main/data/oscars2_df.csv'\n",
        "test_df = pd.read_csv(url, index_col=None)"
      ],
      "execution_count": 2,
      "outputs": []
    },
    {
      "cell_type": "code",
      "metadata": {
        "id": "AUDZfFQ-71BK",
        "colab": {
          "base_uri": "https://localhost:8080/",
          "height": 238
        },
        "outputId": "aecc8692-7e01-46c4-9e2c-eaffd03c0f70"
      },
      "source": [
        "test_df.head()"
      ],
      "execution_count": 3,
      "outputs": [
        {
          "output_type": "execute_result",
          "data": {
            "text/html": [
              "<div>\n",
              "<style scoped>\n",
              "    .dataframe tbody tr th:only-of-type {\n",
              "        vertical-align: middle;\n",
              "    }\n",
              "\n",
              "    .dataframe tbody tr th {\n",
              "        vertical-align: top;\n",
              "    }\n",
              "\n",
              "    .dataframe thead th {\n",
              "        text-align: right;\n",
              "    }\n",
              "</style>\n",
              "<table border=\"1\" class=\"dataframe\">\n",
              "  <thead>\n",
              "    <tr style=\"text-align: right;\">\n",
              "      <th></th>\n",
              "      <th>movie</th>\n",
              "      <th>duration</th>\n",
              "      <th>metascore</th>\n",
              "      <th>gross</th>\n",
              "      <th>critic_reviews</th>\n",
              "      <th>awards_wins</th>\n",
              "      <th>popularity</th>\n",
              "      <th>awards_nominations</th>\n",
              "      <th>golden_globes_nominated</th>\n",
              "      <th>oscar_nominated</th>\n",
              "    </tr>\n",
              "  </thead>\n",
              "  <tbody>\n",
              "    <tr>\n",
              "      <th>0</th>\n",
              "      <td>Kate &amp; Leopold</td>\n",
              "      <td>118</td>\n",
              "      <td>44.0</td>\n",
              "      <td>47100000.0</td>\n",
              "      <td>125.0</td>\n",
              "      <td>1</td>\n",
              "      <td>2363.0</td>\n",
              "      <td>4</td>\n",
              "      <td>2</td>\n",
              "      <td>1</td>\n",
              "    </tr>\n",
              "    <tr>\n",
              "      <th>1</th>\n",
              "      <td>Chicken Run</td>\n",
              "      <td>84</td>\n",
              "      <td>88.0</td>\n",
              "      <td>106790000.0</td>\n",
              "      <td>186.0</td>\n",
              "      <td>5</td>\n",
              "      <td>2859.0</td>\n",
              "      <td>11</td>\n",
              "      <td>1</td>\n",
              "      <td>0</td>\n",
              "    </tr>\n",
              "    <tr>\n",
              "      <th>2</th>\n",
              "      <td>Fantastic Four</td>\n",
              "      <td>106</td>\n",
              "      <td>40.0</td>\n",
              "      <td>154700000.0</td>\n",
              "      <td>278.0</td>\n",
              "      <td>0</td>\n",
              "      <td>1876.0</td>\n",
              "      <td>0</td>\n",
              "      <td>0</td>\n",
              "      <td>0</td>\n",
              "    </tr>\n",
              "    <tr>\n",
              "      <th>3</th>\n",
              "      <td>Frida</td>\n",
              "      <td>123</td>\n",
              "      <td>61.0</td>\n",
              "      <td>25780000.0</td>\n",
              "      <td>126.0</td>\n",
              "      <td>2</td>\n",
              "      <td>2508.0</td>\n",
              "      <td>12</td>\n",
              "      <td>2</td>\n",
              "      <td>1</td>\n",
              "    </tr>\n",
              "    <tr>\n",
              "      <th>4</th>\n",
              "      <td>The Lord of the Rings: The Fellowship of the Ring</td>\n",
              "      <td>178</td>\n",
              "      <td>92.0</td>\n",
              "      <td>313840000.0</td>\n",
              "      <td>296.0</td>\n",
              "      <td>26</td>\n",
              "      <td>204.0</td>\n",
              "      <td>67</td>\n",
              "      <td>4</td>\n",
              "      <td>1</td>\n",
              "    </tr>\n",
              "  </tbody>\n",
              "</table>\n",
              "</div>"
            ],
            "text/plain": [
              "                                               movie  ...  oscar_nominated\n",
              "0                                     Kate & Leopold  ...                1\n",
              "1                                        Chicken Run  ...                0\n",
              "2                                     Fantastic Four  ...                0\n",
              "3                                              Frida  ...                1\n",
              "4  The Lord of the Rings: The Fellowship of the Ring  ...                1\n",
              "\n",
              "[5 rows x 10 columns]"
            ]
          },
          "metadata": {
            "tags": []
          },
          "execution_count": 3
        }
      ]
    },
    {
      "cell_type": "code",
      "metadata": {
        "id": "UNJ0ozco71Dg"
      },
      "source": [
        "# Will need to remove movie from test_df for actual model \n",
        "test_df = test_df[[\"duration\", \"metascore\", \"gross\", \"critic_reviews\", \"awards_wins\", \"popularity\", \"awards_nominations\", \"golden_globes_nominated\", \"oscar_nominated\"]]"
      ],
      "execution_count": 4,
      "outputs": []
    },
    {
      "cell_type": "markdown",
      "metadata": {
        "id": "MvflT4FS8E9B"
      },
      "source": [
        "**XGBoost Machine Learning using GridSearch** "
      ]
    },
    {
      "cell_type": "code",
      "metadata": {
        "id": "BLvF7Pcq8KPA"
      },
      "source": [
        "import xgboost as xgb\n",
        "from sklearn.model_selection import train_test_split\n"
      ],
      "execution_count": 5,
      "outputs": []
    },
    {
      "cell_type": "code",
      "metadata": {
        "id": "EhftsqNY3Pwl"
      },
      "source": [
        "# Remove the labels from the features\n",
        "X_data = test_df.drop('oscar_nominated', axis = 1)\n",
        "\n",
        "# Labels are the values we want to predict\n",
        "y = test_df.oscar_nominated"
      ],
      "execution_count": 6,
      "outputs": []
    },
    {
      "cell_type": "code",
      "metadata": {
        "colab": {
          "base_uri": "https://localhost:8080/",
          "height": 419
        },
        "id": "TnW217TFBHS-",
        "outputId": "ade905ba-2905-4c72-c530-c57d6338155e"
      },
      "source": [
        "X_data"
      ],
      "execution_count": 7,
      "outputs": [
        {
          "output_type": "execute_result",
          "data": {
            "text/html": [
              "<div>\n",
              "<style scoped>\n",
              "    .dataframe tbody tr th:only-of-type {\n",
              "        vertical-align: middle;\n",
              "    }\n",
              "\n",
              "    .dataframe tbody tr th {\n",
              "        vertical-align: top;\n",
              "    }\n",
              "\n",
              "    .dataframe thead th {\n",
              "        text-align: right;\n",
              "    }\n",
              "</style>\n",
              "<table border=\"1\" class=\"dataframe\">\n",
              "  <thead>\n",
              "    <tr style=\"text-align: right;\">\n",
              "      <th></th>\n",
              "      <th>duration</th>\n",
              "      <th>metascore</th>\n",
              "      <th>gross</th>\n",
              "      <th>critic_reviews</th>\n",
              "      <th>awards_wins</th>\n",
              "      <th>popularity</th>\n",
              "      <th>awards_nominations</th>\n",
              "      <th>golden_globes_nominated</th>\n",
              "    </tr>\n",
              "  </thead>\n",
              "  <tbody>\n",
              "    <tr>\n",
              "      <th>0</th>\n",
              "      <td>118</td>\n",
              "      <td>44.0</td>\n",
              "      <td>47100000.0</td>\n",
              "      <td>125.0</td>\n",
              "      <td>1</td>\n",
              "      <td>2363.0</td>\n",
              "      <td>4</td>\n",
              "      <td>2</td>\n",
              "    </tr>\n",
              "    <tr>\n",
              "      <th>1</th>\n",
              "      <td>84</td>\n",
              "      <td>88.0</td>\n",
              "      <td>106790000.0</td>\n",
              "      <td>186.0</td>\n",
              "      <td>5</td>\n",
              "      <td>2859.0</td>\n",
              "      <td>11</td>\n",
              "      <td>1</td>\n",
              "    </tr>\n",
              "    <tr>\n",
              "      <th>2</th>\n",
              "      <td>106</td>\n",
              "      <td>40.0</td>\n",
              "      <td>154700000.0</td>\n",
              "      <td>278.0</td>\n",
              "      <td>0</td>\n",
              "      <td>1876.0</td>\n",
              "      <td>0</td>\n",
              "      <td>0</td>\n",
              "    </tr>\n",
              "    <tr>\n",
              "      <th>3</th>\n",
              "      <td>123</td>\n",
              "      <td>61.0</td>\n",
              "      <td>25780000.0</td>\n",
              "      <td>126.0</td>\n",
              "      <td>2</td>\n",
              "      <td>2508.0</td>\n",
              "      <td>12</td>\n",
              "      <td>2</td>\n",
              "    </tr>\n",
              "    <tr>\n",
              "      <th>4</th>\n",
              "      <td>178</td>\n",
              "      <td>92.0</td>\n",
              "      <td>313840000.0</td>\n",
              "      <td>296.0</td>\n",
              "      <td>26</td>\n",
              "      <td>204.0</td>\n",
              "      <td>67</td>\n",
              "      <td>4</td>\n",
              "    </tr>\n",
              "    <tr>\n",
              "      <th>...</th>\n",
              "      <td>...</td>\n",
              "      <td>...</td>\n",
              "      <td>...</td>\n",
              "      <td>...</td>\n",
              "      <td>...</td>\n",
              "      <td>...</td>\n",
              "      <td>...</td>\n",
              "      <td>...</td>\n",
              "    </tr>\n",
              "    <tr>\n",
              "      <th>1039</th>\n",
              "      <td>132</td>\n",
              "      <td>93.0</td>\n",
              "      <td>11300000.0</td>\n",
              "      <td>300.0</td>\n",
              "      <td>15</td>\n",
              "      <td>7.0</td>\n",
              "      <td>55</td>\n",
              "      <td>3</td>\n",
              "    </tr>\n",
              "    <tr>\n",
              "      <th>1040</th>\n",
              "      <td>130</td>\n",
              "      <td>90.0</td>\n",
              "      <td>10710000.0</td>\n",
              "      <td>180.0</td>\n",
              "      <td>9</td>\n",
              "      <td>11.0</td>\n",
              "      <td>30</td>\n",
              "      <td>2</td>\n",
              "    </tr>\n",
              "    <tr>\n",
              "      <th>1041</th>\n",
              "      <td>111</td>\n",
              "      <td>58.0</td>\n",
              "      <td>22250000.0</td>\n",
              "      <td>164.0</td>\n",
              "      <td>1</td>\n",
              "      <td>151.0</td>\n",
              "      <td>5</td>\n",
              "      <td>1</td>\n",
              "    </tr>\n",
              "    <tr>\n",
              "      <th>1042</th>\n",
              "      <td>122</td>\n",
              "      <td>58.0</td>\n",
              "      <td>11940000.0</td>\n",
              "      <td>86.0</td>\n",
              "      <td>0</td>\n",
              "      <td>115.0</td>\n",
              "      <td>2</td>\n",
              "      <td>1</td>\n",
              "    </tr>\n",
              "    <tr>\n",
              "      <th>1043</th>\n",
              "      <td>116</td>\n",
              "      <td>83.0</td>\n",
              "      <td>58790000.0</td>\n",
              "      <td>291.0</td>\n",
              "      <td>0</td>\n",
              "      <td>6.0</td>\n",
              "      <td>22</td>\n",
              "      <td>6</td>\n",
              "    </tr>\n",
              "  </tbody>\n",
              "</table>\n",
              "<p>1044 rows × 8 columns</p>\n",
              "</div>"
            ],
            "text/plain": [
              "      duration  metascore  ...  awards_nominations  golden_globes_nominated\n",
              "0          118       44.0  ...                   4                        2\n",
              "1           84       88.0  ...                  11                        1\n",
              "2          106       40.0  ...                   0                        0\n",
              "3          123       61.0  ...                  12                        2\n",
              "4          178       92.0  ...                  67                        4\n",
              "...        ...        ...  ...                 ...                      ...\n",
              "1039       132       93.0  ...                  55                        3\n",
              "1040       130       90.0  ...                  30                        2\n",
              "1041       111       58.0  ...                   5                        1\n",
              "1042       122       58.0  ...                   2                        1\n",
              "1043       116       83.0  ...                  22                        6\n",
              "\n",
              "[1044 rows x 8 columns]"
            ]
          },
          "metadata": {
            "tags": []
          },
          "execution_count": 7
        }
      ]
    },
    {
      "cell_type": "code",
      "metadata": {
        "id": "MltDuxhctexi"
      },
      "source": [
        "#Split the dataset into train and Test\n",
        "seed = 7\n",
        "test_size = 0.3\n",
        "X_train, X_test, y_train, y_test = train_test_split(X_data, y, test_size=test_size, random_state=seed)\n"
      ],
      "execution_count": 8,
      "outputs": []
    },
    {
      "cell_type": "markdown",
      "metadata": {
        "id": "Yi2obmWRLCfy"
      },
      "source": [
        "**MODELS 1 & 2**"
      ]
    },
    {
      "cell_type": "code",
      "metadata": {
        "id": "V97gjmjmtN5Z"
      },
      "source": [
        "#Train the XGboost Model for Classification\n",
        "model1 = xgb.XGBClassifier(n_jobs= -1)\n",
        "model2 = xgb.XGBClassifier(n_estimators=100, max_depth=8, learning_rate=0.1, subsample=0.5)\n",
        "\n",
        "train_model1 = model1.fit(X_train, y_train)\n",
        "train_model2 = model2.fit(X_train, y_train)\n"
      ],
      "execution_count": 9,
      "outputs": []
    },
    {
      "cell_type": "code",
      "metadata": {
        "id": "CbZg1H6rtN-L",
        "colab": {
          "base_uri": "https://localhost:8080/"
        },
        "outputId": "51bf329c-9d62-4e09-f7bd-2447241421d3"
      },
      "source": [
        "#prediction and Classification Report\n",
        "from sklearn.metrics import classification_report\n",
        "\n",
        "pred1 = train_model1.predict(X_test)\n",
        "pred2 = train_model2.predict(X_test)\n",
        "\n",
        "print('Model 1 XGboost Report %r' % (classification_report(y_test, pred1)))\n",
        "print('Model 2 XGboost Report %r' % (classification_report(y_test, pred2)))"
      ],
      "execution_count": 10,
      "outputs": [
        {
          "output_type": "stream",
          "text": [
            "Model 1 XGboost Report '              precision    recall  f1-score   support\\n\\n           0       0.87      0.88      0.87       158\\n           1       0.88      0.87      0.87       156\\n\\n    accuracy                           0.87       314\\n   macro avg       0.87      0.87      0.87       314\\nweighted avg       0.87      0.87      0.87       314\\n'\n",
            "Model 2 XGboost Report '              precision    recall  f1-score   support\\n\\n           0       0.89      0.89      0.89       158\\n           1       0.89      0.88      0.89       156\\n\\n    accuracy                           0.89       314\\n   macro avg       0.89      0.89      0.89       314\\nweighted avg       0.89      0.89      0.89       314\\n'\n"
          ],
          "name": "stdout"
        }
      ]
    },
    {
      "cell_type": "code",
      "metadata": {
        "id": "WHWUFy67tOA-",
        "colab": {
          "base_uri": "https://localhost:8080/"
        },
        "outputId": "af5f5b06-bbfc-41d3-bafe-269371ba37c8"
      },
      "source": [
        "#Let's use accuracy score\n",
        "from sklearn.metrics import accuracy_score\n",
        "\n",
        "print(\"Accuracy for model 1: %.2f\" % (accuracy_score(y_test, pred1) * 100))\n",
        "print(\"Accuracy for model 2: %.2f\" % (accuracy_score(y_test, pred2) * 100))"
      ],
      "execution_count": 11,
      "outputs": [
        {
          "output_type": "stream",
          "text": [
            "Accuracy for model 1: 87.26\n",
            "Accuracy for model 2: 88.85\n"
          ],
          "name": "stdout"
        }
      ]
    },
    {
      "cell_type": "markdown",
      "metadata": {
        "id": "V6Iaq_DRLOIr"
      },
      "source": [
        "**Model 3**"
      ]
    },
    {
      "cell_type": "code",
      "metadata": {
        "id": "C7Dm4VmXtODy"
      },
      "source": [
        "#Let's do a little Gridsearch, Hyperparameter Tunning\n",
        "model3 = xgb.XGBClassifier(\n",
        " learning_rate =0.1,\n",
        " n_estimators=1000,\n",
        " max_depth=5,\n",
        " min_child_weight=1,\n",
        " gamma=0,\n",
        " subsample=0.8,\n",
        " colsample_bytree=0.8,\n",
        " objective= 'binary:logistic',\n",
        " nthread=4,\n",
        " scale_pos_weight=1,\n",
        " seed=27)"
      ],
      "execution_count": 12,
      "outputs": []
    },
    {
      "cell_type": "code",
      "metadata": {
        "id": "s_u8YK7ctOGf",
        "colab": {
          "base_uri": "https://localhost:8080/"
        },
        "outputId": "23719dff-f720-4ca9-b709-096615e2ce9f"
      },
      "source": [
        "train_model3 = model3.fit(X_train, y_train)\n",
        "pred3 = train_model3.predict(X_test)\n",
        "print(\"Accuracy for model 3: %.2f\" % (accuracy_score(y_test, pred3) * 100))"
      ],
      "execution_count": 13,
      "outputs": [
        {
          "output_type": "stream",
          "text": [
            "Accuracy for model 3: 86.62\n"
          ],
          "name": "stdout"
        }
      ]
    },
    {
      "cell_type": "markdown",
      "metadata": {
        "id": "37Zv1p4PLScB"
      },
      "source": [
        " **Model 4**"
      ]
    },
    {
      "cell_type": "code",
      "metadata": {
        "id": "QKouw19ItOJP",
        "colab": {
          "base_uri": "https://localhost:8080/"
        },
        "outputId": "2ae618db-dbc4-4518-e611-8c4ee82956e9"
      },
      "source": [
        "from sklearn.model_selection import GridSearchCV\n",
        "\n",
        "param_test = {\n",
        " 'max_depth':[2,10,25],\n",
        " 'min_child_weight':[2,10,25]\n",
        "}\n",
        "gsearch = GridSearchCV(estimator = xgb.XGBClassifier( ), \n",
        " param_grid = param_test, scoring='accuracy',n_jobs=4,iid=False, cv=5, verbose =10)\n",
        "\n",
        "train_model4 = gsearch.fit(X_train, y_train)\n",
        "pred4 = train_model4.predict(X_test)\n",
        "print(\"Accuracy for model 4: %.2f\" % (accuracy_score(y_test, pred4) * 100))"
      ],
      "execution_count": 14,
      "outputs": [
        {
          "output_type": "stream",
          "text": [
            "Fitting 5 folds for each of 9 candidates, totalling 45 fits\n"
          ],
          "name": "stdout"
        },
        {
          "output_type": "stream",
          "text": [
            "[Parallel(n_jobs=4)]: Using backend LokyBackend with 4 concurrent workers.\n",
            "[Parallel(n_jobs=4)]: Done   5 tasks      | elapsed:    2.6s\n",
            "[Parallel(n_jobs=4)]: Done  10 tasks      | elapsed:    2.7s\n",
            "[Parallel(n_jobs=4)]: Done  17 tasks      | elapsed:    3.1s\n",
            "[Parallel(n_jobs=4)]: Done  24 tasks      | elapsed:    3.5s\n",
            "[Parallel(n_jobs=4)]: Done  33 tasks      | elapsed:    4.0s\n"
          ],
          "name": "stderr"
        },
        {
          "output_type": "stream",
          "text": [
            "Accuracy for model 4: 88.22\n"
          ],
          "name": "stdout"
        },
        {
          "output_type": "stream",
          "text": [
            "[Parallel(n_jobs=4)]: Done  43 out of  45 | elapsed:    4.4s remaining:    0.2s\n",
            "[Parallel(n_jobs=4)]: Done  45 out of  45 | elapsed:    4.4s finished\n",
            "/usr/local/lib/python3.7/dist-packages/sklearn/model_selection/_search.py:823: FutureWarning: The parameter 'iid' is deprecated in 0.22 and will be removed in 0.24.\n",
            "  \"removed in 0.24.\", FutureWarning\n"
          ],
          "name": "stderr"
        }
      ]
    },
    {
      "cell_type": "markdown",
      "metadata": {
        "id": "Xi6z9O5QaWpw"
      },
      "source": [
        "**Best accuracy was 88.85 from Model 2**"
      ]
    },
    {
      "cell_type": "code",
      "metadata": {
        "id": "NAJzAWp_tOLs",
        "colab": {
          "base_uri": "https://localhost:8080/"
        },
        "outputId": "7b975f19-8895-40c4-c278-7fa05017030a"
      },
      "source": [
        "# Save best parameters as a variable from Model 2 \n",
        "xgb_best= xgb.XGBClassifier(n_estimators=100, max_depth=8, learning_rate=0.1, subsample=0.5)\n",
        "\n",
        "xgb_best.fit(X_data, y)"
      ],
      "execution_count": 15,
      "outputs": [
        {
          "output_type": "execute_result",
          "data": {
            "text/plain": [
              "XGBClassifier(base_score=0.5, booster='gbtree', colsample_bylevel=1,\n",
              "              colsample_bynode=1, colsample_bytree=1, gamma=0,\n",
              "              learning_rate=0.1, max_delta_step=0, max_depth=8,\n",
              "              min_child_weight=1, missing=None, n_estimators=100, n_jobs=1,\n",
              "              nthread=None, objective='binary:logistic', random_state=0,\n",
              "              reg_alpha=0, reg_lambda=1, scale_pos_weight=1, seed=None,\n",
              "              silent=None, subsample=0.5, verbosity=1)"
            ]
          },
          "metadata": {
            "tags": []
          },
          "execution_count": 15
        }
      ]
    },
    {
      "cell_type": "code",
      "metadata": {
        "id": "HF7uTGkttOOU",
        "colab": {
          "base_uri": "https://localhost:8080/"
        },
        "outputId": "1091d08d-608e-492c-860a-5b1e7ac6a004"
      },
      "source": [
        "# Export the SAV machine learning file \n",
        "import joblib\n",
        "\n",
        "joblib.dump(xgb_best, \"xgb_oscars.sav\")"
      ],
      "execution_count": 16,
      "outputs": [
        {
          "output_type": "execute_result",
          "data": {
            "text/plain": [
              "['xgb_oscars.sav']"
            ]
          },
          "metadata": {
            "tags": []
          },
          "execution_count": 16
        }
      ]
    },
    {
      "cell_type": "code",
      "metadata": {
        "id": "zBvCx-TptOQ_"
      },
      "source": [
        ""
      ],
      "execution_count": 16,
      "outputs": []
    },
    {
      "cell_type": "markdown",
      "metadata": {
        "id": "fv2ldIF6YyEp"
      },
      "source": [
        "**Visualize best parameters of the model and weights of features**\n"
      ]
    },
    {
      "cell_type": "code",
      "metadata": {
        "colab": {
          "base_uri": "https://localhost:8080/"
        },
        "id": "GB_SDuveY9BK",
        "outputId": "8afb66bc-4d01-426b-a5ed-b298fa346516"
      },
      "source": [
        "# Save features columns as a list \n",
        "columns_list = list(test_df.columns)[0:-1]\n",
        "columns_list"
      ],
      "execution_count": 17,
      "outputs": [
        {
          "output_type": "execute_result",
          "data": {
            "text/plain": [
              "['duration',\n",
              " 'metascore',\n",
              " 'gross',\n",
              " 'critic_reviews',\n",
              " 'awards_wins',\n",
              " 'popularity',\n",
              " 'awards_nominations',\n",
              " 'golden_globes_nominated']"
            ]
          },
          "metadata": {
            "tags": []
          },
          "execution_count": 17
        }
      ]
    },
    {
      "cell_type": "code",
      "metadata": {
        "id": "fi5TPYrGtOTz",
        "colab": {
          "base_uri": "https://localhost:8080/"
        },
        "outputId": "d8c519bb-9934-4b89-eb49-c2324175b469"
      },
      "source": [
        "# Find the weights of each feature and how they impact the score\n",
        "feature_imp = pd.Series(train_model2.feature_importances_,index=columns_list).sort_values(ascending=False)\n",
        "feature_imp"
      ],
      "execution_count": 18,
      "outputs": [
        {
          "output_type": "execute_result",
          "data": {
            "text/plain": [
              "awards_nominations         0.389193\n",
              "golden_globes_nominated    0.146773\n",
              "awards_wins                0.093654\n",
              "popularity                 0.092385\n",
              "gross                      0.072624\n",
              "metascore                  0.072149\n",
              "duration                   0.069429\n",
              "critic_reviews             0.063794\n",
              "dtype: float32"
            ]
          },
          "metadata": {
            "tags": []
          },
          "execution_count": 18
        }
      ]
    },
    {
      "cell_type": "code",
      "metadata": {
        "id": "v_oPsqTOtOWH",
        "colab": {
          "base_uri": "https://localhost:8080/",
          "height": 329
        },
        "outputId": "dee12e4d-b71e-43e2-d311-5ea32861b8ee"
      },
      "source": [
        "import matplotlib.pyplot as plt\n",
        "import seaborn as sns\n",
        "%matplotlib inline\n",
        "\n",
        "# Creating a bar plot\n",
        "sns.barplot(x=feature_imp, y=feature_imp.index)\n",
        "\n",
        "# Add labels to your graph\n",
        "plt.xlabel('Feature Importance Score')\n",
        "plt.ylabel('Features')\n",
        "plt.title(\"Visualizing Important Features\")\n",
        "plt.legend()\n",
        "plt.show()\n",
        "plt.savefig('xgbmodel2_importantfeatures.png')"
      ],
      "execution_count": 19,
      "outputs": [
        {
          "output_type": "stream",
          "text": [
            "No handles with labels found to put in legend.\n"
          ],
          "name": "stderr"
        },
        {
          "output_type": "display_data",
          "data": {
            "image/png": "[encoded data removed]",
            "text/plain": [
              "<Figure size 432x288 with 1 Axes>"
            ]
          },
          "metadata": {
            "tags": [],
            "needs_background": "light"
          }
        },
        {
          "output_type": "display_data",
          "data": {
            "text/plain": [
              "<Figure size 432x288 with 0 Axes>"
            ]
          },
          "metadata": {
            "tags": []
          }
        }
      ]
    },
    {
      "cell_type": "code",
      "metadata": {
        "id": "4QPL1u2FY-2y"
      },
      "source": [
        ""
      ],
      "execution_count": 19,
      "outputs": []
    }
  ]
}