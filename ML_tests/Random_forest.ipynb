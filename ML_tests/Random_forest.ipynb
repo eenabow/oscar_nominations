{
  "nbformat": 4,
  "nbformat_minor": 0,
  "metadata": {
    "colab": {
      "name": "Random_forest",
      "provenance": [],
      "collapsed_sections": []
    },
    "kernelspec": {
      "name": "python3",
      "display_name": "Python 3"
    },
    "language_info": {
      "name": "python"
    }
  },
  "cells": [
    {
      "cell_type": "code",
      "metadata": {
        "id": "NLBuzt3pzLu4"
      },
      "source": [
        "# Import dependencies\n",
        "from sklearn.ensemble import RandomForestClassifier\n",
        "import pandas as pd\n",
        "import numpy as np"
      ],
      "execution_count": null,
      "outputs": []
    },
    {
      "cell_type": "markdown",
      "metadata": {
        "id": "XBSENKGckbL6"
      },
      "source": [
        "## **Loading in CSV**"
      ]
    },
    {
      "cell_type": "code",
      "metadata": {
        "id": "aGyKASbtz3ah"
      },
      "source": [
        "# Read in raw data of test_df from github\n",
        "url = 'https://raw.githubusercontent.com/eenabow/oscar_nominations/main/oscars_df.csv'\n",
        "test_df = pd.read_csv(url, index_col=None)"
      ],
      "execution_count": null,
      "outputs": []
    },
    {
      "cell_type": "code",
      "metadata": {
        "colab": {
          "base_uri": "https://localhost:8080/",
          "height": 204
        },
        "id": "8zIPMoEHaCm6",
        "outputId": "c18647e5-93fb-4cdb-a9b5-dd399a754f3c"
      },
      "source": [
        "test_df.head()"
      ],
      "execution_count": null,
      "outputs": [
        {
          "output_type": "execute_result",
          "data": {
            "text/html": [
              "<div>\n",
              "<style scoped>\n",
              "    .dataframe tbody tr th:only-of-type {\n",
              "        vertical-align: middle;\n",
              "    }\n",
              "\n",
              "    .dataframe tbody tr th {\n",
              "        vertical-align: top;\n",
              "    }\n",
              "\n",
              "    .dataframe thead th {\n",
              "        text-align: right;\n",
              "    }\n",
              "</style>\n",
              "<table border=\"1\" class=\"dataframe\">\n",
              "  <thead>\n",
              "    <tr style=\"text-align: right;\">\n",
              "      <th></th>\n",
              "      <th>movie</th>\n",
              "      <th>duration</th>\n",
              "      <th>metascore</th>\n",
              "      <th>gross</th>\n",
              "      <th>awards_nominations</th>\n",
              "      <th>golden_globes_nominated</th>\n",
              "      <th>oscar_nominated</th>\n",
              "    </tr>\n",
              "  </thead>\n",
              "  <tbody>\n",
              "    <tr>\n",
              "      <th>0</th>\n",
              "      <td>Kate &amp; Leopold</td>\n",
              "      <td>118</td>\n",
              "      <td>44.0</td>\n",
              "      <td>47100000.0</td>\n",
              "      <td>4</td>\n",
              "      <td>2</td>\n",
              "      <td>1</td>\n",
              "    </tr>\n",
              "    <tr>\n",
              "      <th>1</th>\n",
              "      <td>Chicken Run</td>\n",
              "      <td>84</td>\n",
              "      <td>88.0</td>\n",
              "      <td>106790000.0</td>\n",
              "      <td>11</td>\n",
              "      <td>1</td>\n",
              "      <td>0</td>\n",
              "    </tr>\n",
              "    <tr>\n",
              "      <th>2</th>\n",
              "      <td>Fantastic Four</td>\n",
              "      <td>106</td>\n",
              "      <td>40.0</td>\n",
              "      <td>154700000.0</td>\n",
              "      <td>0</td>\n",
              "      <td>0</td>\n",
              "      <td>0</td>\n",
              "    </tr>\n",
              "    <tr>\n",
              "      <th>3</th>\n",
              "      <td>Frida</td>\n",
              "      <td>123</td>\n",
              "      <td>61.0</td>\n",
              "      <td>25780000.0</td>\n",
              "      <td>12</td>\n",
              "      <td>2</td>\n",
              "      <td>1</td>\n",
              "    </tr>\n",
              "    <tr>\n",
              "      <th>4</th>\n",
              "      <td>The Lord of the Rings: The Fellowship of the Ring</td>\n",
              "      <td>178</td>\n",
              "      <td>92.0</td>\n",
              "      <td>313840000.0</td>\n",
              "      <td>67</td>\n",
              "      <td>4</td>\n",
              "      <td>1</td>\n",
              "    </tr>\n",
              "  </tbody>\n",
              "</table>\n",
              "</div>"
            ],
            "text/plain": [
              "                                               movie  ...  oscar_nominated\n",
              "0                                     Kate & Leopold  ...                1\n",
              "1                                        Chicken Run  ...                0\n",
              "2                                     Fantastic Four  ...                0\n",
              "3                                              Frida  ...                1\n",
              "4  The Lord of the Rings: The Fellowship of the Ring  ...                1\n",
              "\n",
              "[5 rows x 7 columns]"
            ]
          },
          "metadata": {
            "tags": []
          },
          "execution_count": 3
        }
      ]
    },
    {
      "cell_type": "code",
      "metadata": {
        "id": "gioop3enaCpg"
      },
      "source": [
        "# Will need to remove movie from test_df for actual model \n",
        "test_df = test_df[[\"duration\", \"metascore\", \"gross\", \"awards_nominations\", \"golden_globes_nominated\", \"oscar_nominated\"]]"
      ],
      "execution_count": null,
      "outputs": []
    },
    {
      "cell_type": "markdown",
      "metadata": {
        "id": "emQS_lBd1CR0"
      },
      "source": [
        "## **Random Forest Machine Learning using Randomized search CV** "
      ]
    },
    {
      "cell_type": "code",
      "metadata": {
        "id": "5bxvrylwmVm9"
      },
      "source": [
        "# Labels are the values we want to predict\n",
        "labels = np.array(test_df['oscar_nominated'])\n",
        "\n",
        "# Remove the labels from the features\n",
        "# axis 1 refers to the columns\n",
        "features= test_df.drop('oscar_nominated', axis = 1)\n",
        "\n",
        "# Saving feature names for later use\n",
        "feature_list = list(features.columns)\n",
        "\n",
        "# Convert to numpy array\n",
        "features = np.array(features)\n"
      ],
      "execution_count": null,
      "outputs": []
    },
    {
      "cell_type": "code",
      "metadata": {
        "id": "akhWfhKCmVsg"
      },
      "source": [
        "# Using Skicit-learn to split data into training and testing sets\n",
        "from sklearn.model_selection import train_test_split\n",
        "\n",
        "# Split the data into training and testing sets\n",
        "train_features, test_features, train_labels, test_labels = train_test_split(features, labels, test_size = 0.25, random_state = 42)"
      ],
      "execution_count": null,
      "outputs": []
    },
    {
      "cell_type": "code",
      "metadata": {
        "colab": {
          "base_uri": "https://localhost:8080/"
        },
        "id": "rJ5cNdsTmV1C",
        "outputId": "493d2818-3de9-46f6-9478-bfd17143faf4"
      },
      "source": [
        "# Print the shape of the test and train splits\n",
        "print('Training Features Shape:', train_features.shape)\n",
        "print('Training Labels Shape:', train_labels.shape)\n",
        "print('Testing Features Shape:', test_features.shape)\n",
        "print('Testing Labels Shape:', test_labels.shape)\n"
      ],
      "execution_count": null,
      "outputs": [
        {
          "output_type": "stream",
          "text": [
            "Training Features Shape: (864, 5)\n",
            "Training Labels Shape: (864,)\n",
            "Testing Features Shape: (288, 5)\n",
            "Testing Labels Shape: (288,)\n"
          ],
          "name": "stdout"
        }
      ]
    },
    {
      "cell_type": "code",
      "metadata": {
        "id": "Pkq9fba_sDaj"
      },
      "source": [
        "# Import the model we are using\n",
        "from sklearn.ensemble import RandomForestRegressor"
      ],
      "execution_count": null,
      "outputs": []
    },
    {
      "cell_type": "code",
      "metadata": {
        "colab": {
          "base_uri": "https://localhost:8080/"
        },
        "id": "25cV_0cClwc_",
        "outputId": "23237fe1-7749-4d28-cc22-5d2fab45cb7b"
      },
      "source": [
        "from sklearn.model_selection import RandomizedSearchCV\n",
        "\n",
        "# Number of trees in random forest\n",
        "n_estimators = [int(x) for x in np.linspace(start = 200, stop = 2000, num = 10)]\n",
        "\n",
        "# Number of features to consider at every split\n",
        "max_features = ['auto', 'sqrt']\n",
        "\n",
        "# Maximum number of levels in tree\n",
        "max_depth = [int(x) for x in np.linspace(10, 110, num = 11)]\n",
        "\n",
        "max_depth.append(None)\n",
        "\n",
        "# Minimum number of samples required to split a node\n",
        "min_samples_split = [2, 5, 10]\n",
        "\n",
        "# Minimum number of samples required at each leaf node\n",
        "min_samples_leaf = [1, 2, 4]\n",
        "\n",
        "# Method of selecting samples for training each tree\n",
        "bootstrap = [True, False]\n",
        "\n",
        "# Create the random grid\n",
        "random_grid = {'n_estimators': n_estimators,\n",
        "               'max_features': max_features,\n",
        "               'max_depth': max_depth,\n",
        "               'min_samples_split': min_samples_split,\n",
        "               'min_samples_leaf': min_samples_leaf,\n",
        "               'bootstrap': bootstrap}\n",
        "\n",
        "\n",
        "# Use the random grid to search for best hyperparameters\n",
        "# First create the base model to tune\n",
        "rf = RandomForestRegressor()\n",
        "\n",
        "# Random search of parameters, using 3 fold cross validation, \n",
        "# search across 100 different combinations, and use all available cores\n",
        "rf_random = RandomizedSearchCV(estimator = rf, param_distributions = random_grid, n_iter = 100, cv = 3, verbose=10, random_state=42, n_jobs = -1)\n",
        "\n",
        "# Fit the random search model\n",
        "rf_random.fit(train_features, train_labels)\n",
        "\n"
      ],
      "execution_count": 12,
      "outputs": [
        {
          "output_type": "stream",
          "text": [
            "Fitting 3 folds for each of 100 candidates, totalling 300 fits\n"
          ],
          "name": "stdout"
        },
        {
          "output_type": "stream",
          "text": [
            "[Parallel(n_jobs=-1)]: Using backend LokyBackend with 2 concurrent workers.\n",
            "[Parallel(n_jobs=-1)]: Done   1 tasks      | elapsed:    1.8s\n",
            "[Parallel(n_jobs=-1)]: Done   4 tasks      | elapsed:    7.0s\n",
            "[Parallel(n_jobs=-1)]: Done   9 tasks      | elapsed:   14.9s\n",
            "[Parallel(n_jobs=-1)]: Done  14 tasks      | elapsed:   28.7s\n",
            "[Parallel(n_jobs=-1)]: Done  21 tasks      | elapsed:   35.4s\n",
            "[Parallel(n_jobs=-1)]: Done  28 tasks      | elapsed:   45.6s\n",
            "[Parallel(n_jobs=-1)]: Done  37 tasks      | elapsed:   58.1s\n",
            "[Parallel(n_jobs=-1)]: Done  46 tasks      | elapsed:  1.2min\n",
            "[Parallel(n_jobs=-1)]: Done  57 tasks      | elapsed:  1.5min\n",
            "[Parallel(n_jobs=-1)]: Done  68 tasks      | elapsed:  1.8min\n",
            "[Parallel(n_jobs=-1)]: Done  81 tasks      | elapsed:  2.2min\n",
            "[Parallel(n_jobs=-1)]: Done  94 tasks      | elapsed:  2.6min\n",
            "[Parallel(n_jobs=-1)]: Done 109 tasks      | elapsed:  2.9min\n",
            "[Parallel(n_jobs=-1)]: Done 124 tasks      | elapsed:  3.1min\n",
            "[Parallel(n_jobs=-1)]: Done 141 tasks      | elapsed:  3.5min\n",
            "[Parallel(n_jobs=-1)]: Done 158 tasks      | elapsed:  3.9min\n",
            "[Parallel(n_jobs=-1)]: Done 177 tasks      | elapsed:  4.5min\n",
            "[Parallel(n_jobs=-1)]: Done 196 tasks      | elapsed:  5.0min\n",
            "[Parallel(n_jobs=-1)]: Done 217 tasks      | elapsed:  5.7min\n",
            "[Parallel(n_jobs=-1)]: Done 238 tasks      | elapsed:  6.2min\n",
            "[Parallel(n_jobs=-1)]: Done 261 tasks      | elapsed:  6.6min\n",
            "[Parallel(n_jobs=-1)]: Done 284 tasks      | elapsed:  7.1min\n",
            "[Parallel(n_jobs=-1)]: Done 300 out of 300 | elapsed:  7.5min finished\n"
          ],
          "name": "stderr"
        },
        {
          "output_type": "execute_result",
          "data": {
            "text/plain": [
              "RandomizedSearchCV(cv=3, error_score=nan,\n",
              "                   estimator=RandomForestRegressor(bootstrap=True,\n",
              "                                                   ccp_alpha=0.0,\n",
              "                                                   criterion='mse',\n",
              "                                                   max_depth=None,\n",
              "                                                   max_features='auto',\n",
              "                                                   max_leaf_nodes=None,\n",
              "                                                   max_samples=None,\n",
              "                                                   min_impurity_decrease=0.0,\n",
              "                                                   min_impurity_split=None,\n",
              "                                                   min_samples_leaf=1,\n",
              "                                                   min_samples_split=2,\n",
              "                                                   min_weight_fraction_leaf=0.0,\n",
              "                                                   n_estimators=100,\n",
              "                                                   n_jobs=None, oob_score=Fals...\n",
              "                   param_distributions={'bootstrap': [True, False],\n",
              "                                        'max_depth': [10, 20, 30, 40, 50, 60,\n",
              "                                                      70, 80, 90, 100, 110,\n",
              "                                                      None],\n",
              "                                        'max_features': ['auto', 'sqrt'],\n",
              "                                        'min_samples_leaf': [1, 2, 4],\n",
              "                                        'min_samples_split': [2, 5, 10],\n",
              "                                        'n_estimators': [200, 400, 600, 800,\n",
              "                                                         1000, 1200, 1400, 1600,\n",
              "                                                         1800, 2000]},\n",
              "                   pre_dispatch='2*n_jobs', random_state=42, refit=True,\n",
              "                   return_train_score=False, scoring=None, verbose=10)"
            ]
          },
          "metadata": {
            "tags": []
          },
          "execution_count": 12
        }
      ]
    },
    {
      "cell_type": "code",
      "metadata": {
        "colab": {
          "base_uri": "https://localhost:8080/"
        },
        "id": "5ciRHhmUp90f",
        "outputId": "e157afe8-a0c4-485d-f2c6-6d75d7bf17d6"
      },
      "source": [
        "# Most successful model's parameters\n",
        "rf_random.best_params_"
      ],
      "execution_count": 14,
      "outputs": [
        {
          "output_type": "execute_result",
          "data": {
            "text/plain": [
              "{'bootstrap': True,\n",
              " 'max_depth': 10,\n",
              " 'max_features': 'sqrt',\n",
              " 'min_samples_leaf': 4,\n",
              " 'min_samples_split': 2,\n",
              " 'n_estimators': 400}"
            ]
          },
          "metadata": {
            "tags": []
          },
          "execution_count": 14
        }
      ]
    },
    {
      "cell_type": "code",
      "metadata": {
        "id": "T7kzfMu6mJyU",
        "colab": {
          "base_uri": "https://localhost:8080/"
        },
        "outputId": "6d854677-7d34-43cb-c306-cf70d141e420"
      },
      "source": [
        "# Accuracy rating\n",
        "rf_random.best_score_"
      ],
      "execution_count": 15,
      "outputs": [
        {
          "output_type": "execute_result",
          "data": {
            "text/plain": [
              "0.5527877709589136"
            ]
          },
          "metadata": {
            "tags": []
          },
          "execution_count": 15
        }
      ]
    },
    {
      "cell_type": "code",
      "metadata": {
        "colab": {
          "base_uri": "https://localhost:8080/"
        },
        "id": "BYX0iR5xqYAO",
        "outputId": "cde672ea-b5cb-4c81-dfac-9d851452cea5"
      },
      "source": [
        "# Export the SAV machine learning file \n",
        "import joblib\n",
        "\n",
        "joblib.dump(rf_random, \"random_forest_oscars.sav\")"
      ],
      "execution_count": 19,
      "outputs": [
        {
          "output_type": "execute_result",
          "data": {
            "text/plain": [
              "['random_forest_oscars.sav']"
            ]
          },
          "metadata": {
            "tags": []
          },
          "execution_count": 19
        }
      ]
    },
    {
      "cell_type": "markdown",
      "metadata": {
        "id": "kwLH6tCNkidE"
      },
      "source": [
        "### **Predict whether Nomadland (Won Oscar's Best Picture 2021) would be nominated for the Oscar's based on model**"
      ]
    },
    {
      "cell_type": "code",
      "metadata": {
        "id": "f8yetXtDaCsI"
      },
      "source": [
        "# Manually enter nomadland features\n",
        "nomadland_df = pd.DataFrame({\n",
        "    \"duration\": [110],\n",
        "    \"metascore\": [93],\n",
        "    \"gross\": [2143000],\n",
        "    \"awards_nominations\": [41], \n",
        "    \"golden_globes_nominated\": [4]\n",
        "})"
      ],
      "execution_count": 22,
      "outputs": []
    },
    {
      "cell_type": "code",
      "metadata": {
        "id": "xcKCesQAz3fY",
        "colab": {
          "base_uri": "https://localhost:8080/"
        },
        "outputId": "c3290e71-b574-4faa-c9bd-082a5802e9fd"
      },
      "source": [
        "# Predict the percentage of Nomadland being nominated for the Oscars\n",
        "rf_random.predict(nomadland_df)"
      ],
      "execution_count": 23,
      "outputs": [
        {
          "output_type": "execute_result",
          "data": {
            "text/plain": [
              "array([0.73123237])"
            ]
          },
          "metadata": {
            "tags": []
          },
          "execution_count": 23
        }
      ]
    },
    {
      "cell_type": "markdown",
      "metadata": {
        "id": "CgKYS5Ai2H1z"
      },
      "source": [
        "**Visualize best parameters of the model and weights of features**"
      ]
    },
    {
      "cell_type": "code",
      "metadata": {
        "colab": {
          "base_uri": "https://localhost:8080/"
        },
        "id": "TrIMc7-LvU5f",
        "outputId": "6be971a3-2811-4f88-fae6-1fb2e6f46c6d"
      },
      "source": [
        "# Save best parameters as a variable \n",
        "rf_best= RandomForestClassifier(bootstrap = True,\n",
        " max_depth= 10, max_features= 'sqrt',\n",
        " min_samples_leaf= 4,\n",
        " min_samples_split= 2,\n",
        " n_estimators= 400)\n",
        "\n",
        "rf_best.fit(train_features, train_labels)"
      ],
      "execution_count": 27,
      "outputs": [
        {
          "output_type": "execute_result",
          "data": {
            "text/plain": [
              "RandomForestClassifier(bootstrap=True, ccp_alpha=0.0, class_weight=None,\n",
              "                       criterion='gini', max_depth=10, max_features='sqrt',\n",
              "                       max_leaf_nodes=None, max_samples=None,\n",
              "                       min_impurity_decrease=0.0, min_impurity_split=None,\n",
              "                       min_samples_leaf=4, min_samples_split=2,\n",
              "                       min_weight_fraction_leaf=0.0, n_estimators=400,\n",
              "                       n_jobs=None, oob_score=False, random_state=None,\n",
              "                       verbose=0, warm_start=False)"
            ]
          },
          "metadata": {
            "tags": []
          },
          "execution_count": 27
        }
      ]
    },
    {
      "cell_type": "code",
      "metadata": {
        "colab": {
          "base_uri": "https://localhost:8080/"
        },
        "id": "0FDLd9ezwL71",
        "outputId": "2ac0038d-dd23-486c-c799-921974f45516"
      },
      "source": [
        "# Save features columns as a list \n",
        "columns_list = list(test_df.columns)[0:-1]\n",
        "columns_list"
      ],
      "execution_count": 36,
      "outputs": [
        {
          "output_type": "execute_result",
          "data": {
            "text/plain": [
              "['duration',\n",
              " 'metascore',\n",
              " 'gross',\n",
              " 'awards_nominations',\n",
              " 'golden_globes_nominated']"
            ]
          },
          "metadata": {
            "tags": []
          },
          "execution_count": 36
        }
      ]
    },
    {
      "cell_type": "code",
      "metadata": {
        "id": "E1SSj7Bfz3hy",
        "colab": {
          "base_uri": "https://localhost:8080/"
        },
        "outputId": "40b992dd-2ef4-4c68-920c-53c794bc133e"
      },
      "source": [
        "# Find the weights of each feature and how they impact the score\n",
        "feature_imp = pd.Series(rf_best.feature_importances_,index=columns_list).sort_values(ascending=False)\n",
        "feature_imp"
      ],
      "execution_count": 39,
      "outputs": [
        {
          "output_type": "execute_result",
          "data": {
            "text/plain": [
              "awards_nominations         0.370329\n",
              "metascore                  0.247054\n",
              "golden_globes_nominated    0.163358\n",
              "gross                      0.143981\n",
              "duration                   0.075278\n",
              "dtype: float64"
            ]
          },
          "metadata": {
            "tags": []
          },
          "execution_count": 39
        }
      ]
    },
    {
      "cell_type": "code",
      "metadata": {
        "id": "3qrIXxRYz3kH",
        "colab": {
          "base_uri": "https://localhost:8080/",
          "height": 312
        },
        "outputId": "c23cad5b-7fc6-4947-fb83-7ae0574be830"
      },
      "source": [
        "import matplotlib.pyplot as plt\n",
        "import seaborn as sns\n",
        "%matplotlib inline\n",
        "\n",
        "# Creating a bar plot\n",
        "sns.barplot(x=feature_imp, y=feature_imp.index)\n",
        "\n",
        "# Add labels to your graph\n",
        "plt.xlabel('Feature Importance Score')\n",
        "plt.ylabel('Features')\n",
        "plt.title(\"Visualizing Important Features\")\n",
        "plt.legend()\n",
        "plt.show()"
      ],
      "execution_count": 38,
      "outputs": [
        {
          "output_type": "stream",
          "text": [
            "No handles with labels found to put in legend.\n"
          ],
          "name": "stderr"
        },
        {
          "output_type": "display_data",
          "data": {
            "image/png": "[encoded data removed]",
            "text/plain": [
              "<Figure size 432x288 with 1 Axes>"
            ]
          },
          "metadata": {
            "tags": [],
            "needs_background": "light"
          }
        }
      ]
    },
    {
      "cell_type": "code",
      "metadata": {
        "id": "gmqQJTwN0m2l"
      },
      "source": [
        ""
      ],
      "execution_count": null,
      "outputs": []
    }
  ]
}