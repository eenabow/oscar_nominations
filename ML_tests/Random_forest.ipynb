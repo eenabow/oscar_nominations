{
  "nbformat": 4,
  "nbformat_minor": 0,
  "metadata": {
    "colab": {
      "name": "Random_forest",
      "provenance": [],
      "collapsed_sections": []
    },
    "kernelspec": {
      "display_name": "Python 3",
      "name": "python3"
    },
    "language_info": {
      "name": "python"
    }
  },
  "cells": [
    {
      "cell_type": "code",
      "metadata": {
        "id": "NLBuzt3pzLu4"
      },
      "source": [
        "# Import dependencies\n",
        "from sklearn.ensemble import RandomForestClassifier\n",
        "import pandas as pd\n",
        "import numpy as np"
      ],
      "execution_count": 1,
      "outputs": []
    },
    {
      "cell_type": "markdown",
      "metadata": {
        "id": "XBSENKGckbL6"
      },
      "source": [
        "## **Loading in CSV**"
      ]
    },
    {
      "cell_type": "code",
      "metadata": {
        "id": "aGyKASbtz3ah"
      },
      "source": [
        "# Read in raw data of test_df from github\n",
        "url = 'https://raw.githubusercontent.com/eenabow/oscar_nominations/main/data/oscars_df.csv'\n",
        "test_df = pd.read_csv(url, index_col=None)"
      ],
      "execution_count": 2,
      "outputs": []
    },
    {
      "cell_type": "code",
      "metadata": {
        "colab": {
          "base_uri": "https://localhost:8080/",
          "height": 204
        },
        "id": "8zIPMoEHaCm6",
        "outputId": "e716c117-111c-4391-bd14-6f068de6fbc8"
      },
      "source": [
        "test_df.head()"
      ],
      "execution_count": 3,
      "outputs": [
        {
          "output_type": "execute_result",
          "data": {
            "text/html": [
              "<div>\n",
              "<style scoped>\n",
              "    .dataframe tbody tr th:only-of-type {\n",
              "        vertical-align: middle;\n",
              "    }\n",
              "\n",
              "    .dataframe tbody tr th {\n",
              "        vertical-align: top;\n",
              "    }\n",
              "\n",
              "    .dataframe thead th {\n",
              "        text-align: right;\n",
              "    }\n",
              "</style>\n",
              "<table border=\"1\" class=\"dataframe\">\n",
              "  <thead>\n",
              "    <tr style=\"text-align: right;\">\n",
              "      <th></th>\n",
              "      <th>movie</th>\n",
              "      <th>duration</th>\n",
              "      <th>metascore</th>\n",
              "      <th>gross</th>\n",
              "      <th>awards_nominations</th>\n",
              "      <th>golden_globes_nominated</th>\n",
              "      <th>oscar_nominated</th>\n",
              "    </tr>\n",
              "  </thead>\n",
              "  <tbody>\n",
              "    <tr>\n",
              "      <th>0</th>\n",
              "      <td>Kate &amp; Leopold</td>\n",
              "      <td>118</td>\n",
              "      <td>44.0</td>\n",
              "      <td>47100000.0</td>\n",
              "      <td>4</td>\n",
              "      <td>2</td>\n",
              "      <td>1</td>\n",
              "    </tr>\n",
              "    <tr>\n",
              "      <th>1</th>\n",
              "      <td>Chicken Run</td>\n",
              "      <td>84</td>\n",
              "      <td>88.0</td>\n",
              "      <td>106790000.0</td>\n",
              "      <td>11</td>\n",
              "      <td>1</td>\n",
              "      <td>0</td>\n",
              "    </tr>\n",
              "    <tr>\n",
              "      <th>2</th>\n",
              "      <td>Fantastic Four</td>\n",
              "      <td>106</td>\n",
              "      <td>40.0</td>\n",
              "      <td>154700000.0</td>\n",
              "      <td>0</td>\n",
              "      <td>0</td>\n",
              "      <td>0</td>\n",
              "    </tr>\n",
              "    <tr>\n",
              "      <th>3</th>\n",
              "      <td>Frida</td>\n",
              "      <td>123</td>\n",
              "      <td>61.0</td>\n",
              "      <td>25780000.0</td>\n",
              "      <td>12</td>\n",
              "      <td>2</td>\n",
              "      <td>1</td>\n",
              "    </tr>\n",
              "    <tr>\n",
              "      <th>4</th>\n",
              "      <td>The Lord of the Rings: The Fellowship of the Ring</td>\n",
              "      <td>178</td>\n",
              "      <td>92.0</td>\n",
              "      <td>313840000.0</td>\n",
              "      <td>67</td>\n",
              "      <td>4</td>\n",
              "      <td>1</td>\n",
              "    </tr>\n",
              "  </tbody>\n",
              "</table>\n",
              "</div>"
            ],
            "text/plain": [
              "                                               movie  ...  oscar_nominated\n",
              "0                                     Kate & Leopold  ...                1\n",
              "1                                        Chicken Run  ...                0\n",
              "2                                     Fantastic Four  ...                0\n",
              "3                                              Frida  ...                1\n",
              "4  The Lord of the Rings: The Fellowship of the Ring  ...                1\n",
              "\n",
              "[5 rows x 7 columns]"
            ]
          },
          "metadata": {
            "tags": []
          },
          "execution_count": 3
        }
      ]
    },
    {
      "cell_type": "code",
      "metadata": {
        "id": "gioop3enaCpg"
      },
      "source": [
        "# Will need to remove movie from test_df for actual model \n",
        "test_df = test_df[[\"duration\", \"metascore\", \"gross\", \"awards_nominations\", \"golden_globes_nominated\", \"oscar_nominated\"]]"
      ],
      "execution_count": 4,
      "outputs": []
    },
    {
      "cell_type": "markdown",
      "metadata": {
        "id": "emQS_lBd1CR0"
      },
      "source": [
        "## **Random Forest Machine Learning using Randomized search CV** "
      ]
    },
    {
      "cell_type": "code",
      "metadata": {
        "id": "5bxvrylwmVm9",
        "colab": {
          "base_uri": "https://localhost:8080/"
        },
        "outputId": "5a0ace18-311b-41dd-fd18-95f5122561cb"
      },
      "source": [
        "# Labels are the values we want to predict\n",
        "labels = np.array(test_df['oscar_nominated'])\n",
        "\n",
        "# Remove the labels from the features\n",
        "# axis 1 refers to the columns\n",
        "features= test_df.drop('oscar_nominated', axis = 1)\n",
        "\n",
        "# Saving feature names for later use\n",
        "feature_list = list(features.columns)\n",
        "\n",
        "# Convert to numpy array\n",
        "features = np.array(features)\n",
        "\n",
        "print(labels)\n"
      ],
      "execution_count": 5,
      "outputs": [
        {
          "output_type": "stream",
          "text": [
            "[1 0 0 ... 1 1 1]\n"
          ],
          "name": "stdout"
        }
      ]
    },
    {
      "cell_type": "code",
      "metadata": {
        "id": "Pkq9fba_sDaj"
      },
      "source": [
        "# Import the model we are using\n",
        "from sklearn.ensemble import RandomForestClassifier"
      ],
      "execution_count": 6,
      "outputs": []
    },
    {
      "cell_type": "code",
      "metadata": {
        "colab": {
          "base_uri": "https://localhost:8080/"
        },
        "id": "25cV_0cClwc_",
        "outputId": "856239e7-eeb4-4fd6-f081-309c159c0aed"
      },
      "source": [
        "from sklearn.model_selection import RandomizedSearchCV\n",
        "\n",
        "# Number of trees in random forest\n",
        "# n_estimators = [int(x) for x in np.linspace(start = 200, stop = 2000, num = 10)]\n",
        "n_estimators = [50,250,1000]\n",
        "\n",
        "\n",
        "# Number of features to consider at every split\n",
        "max_features = ['auto', 'sqrt']\n",
        "\n",
        "# Maximum number of levels in tree\n",
        "# max_depth = [int(x) for x in np.linspace(10, 110, num = 11)]\"\"\n",
        "max_depth = [4,12,20]\n",
        "\n",
        "\n",
        "max_depth.append(None)\n",
        "\n",
        "# Minimum number of samples required to split a node\n",
        "min_samples_split = [2, 5, 10]\n",
        "\n",
        "# Minimum number of samples required at each leaf node\n",
        "min_samples_leaf = [1, 2, 4]\n",
        "\n",
        "# Method of selecting samples for training each tree\n",
        "bootstrap = [True, False]\n",
        "\n",
        "# Create the random grid\n",
        "random_grid = {'n_estimators': n_estimators,\n",
        "               'max_features': max_features,\n",
        "               'max_depth': max_depth,\n",
        "               'min_samples_split': min_samples_split,\n",
        "               'min_samples_leaf': min_samples_leaf,\n",
        "               'bootstrap': bootstrap}\n",
        "\n",
        "\n",
        "# Use the random grid to search for best hyperparameters\n",
        "# First create the base model to tune\n",
        "rf = RandomForestClassifier()\n",
        "\n",
        "# Random search of parameters, using 3 fold cross validation, \n",
        "# search across 100 different combinations, and use all available cores\n",
        "rf_random = RandomizedSearchCV(estimator = rf, param_distributions = random_grid, n_iter = 20, cv = 3, verbose=10, random_state=42, n_jobs = -1)\n",
        "\n",
        "# Fit the random search model\n",
        "rf_random.fit(features, labels)\n",
        "\n"
      ],
      "execution_count": 25,
      "outputs": [
        {
          "output_type": "stream",
          "text": [
            "Fitting 3 folds for each of 20 candidates, totalling 60 fits\n"
          ],
          "name": "stdout"
        },
        {
          "output_type": "stream",
          "text": [
            "[Parallel(n_jobs=-1)]: Using backend LokyBackend with 2 concurrent workers.\n",
            "[Parallel(n_jobs=-1)]: Done   1 tasks      | elapsed:    1.6s\n",
            "[Parallel(n_jobs=-1)]: Done   4 tasks      | elapsed:    2.1s\n",
            "[Parallel(n_jobs=-1)]: Done   9 tasks      | elapsed:    2.7s\n",
            "[Parallel(n_jobs=-1)]: Done  14 tasks      | elapsed:    6.2s\n",
            "[Parallel(n_jobs=-1)]: Done  21 tasks      | elapsed:   12.7s\n",
            "[Parallel(n_jobs=-1)]: Done  28 tasks      | elapsed:   14.9s\n",
            "[Parallel(n_jobs=-1)]: Done  37 tasks      | elapsed:   17.6s\n",
            "[Parallel(n_jobs=-1)]: Done  46 tasks      | elapsed:   23.2s\n",
            "[Parallel(n_jobs=-1)]: Done  57 tasks      | elapsed:   26.7s\n",
            "[Parallel(n_jobs=-1)]: Done  60 out of  60 | elapsed:   28.0s finished\n"
          ],
          "name": "stderr"
        },
        {
          "output_type": "execute_result",
          "data": {
            "text/plain": [
              "RandomizedSearchCV(cv=3, error_score=nan,\n",
              "                   estimator=RandomForestClassifier(bootstrap=True,\n",
              "                                                    ccp_alpha=0.0,\n",
              "                                                    class_weight=None,\n",
              "                                                    criterion='gini',\n",
              "                                                    max_depth=None,\n",
              "                                                    max_features='auto',\n",
              "                                                    max_leaf_nodes=None,\n",
              "                                                    max_samples=None,\n",
              "                                                    min_impurity_decrease=0.0,\n",
              "                                                    min_impurity_split=None,\n",
              "                                                    min_samples_leaf=1,\n",
              "                                                    min_samples_split=2,\n",
              "                                                    min_weight_fraction_leaf=0.0,\n",
              "                                                    n_estimators=100,\n",
              "                                                    n_jobs...\n",
              "                                                    verbose=0,\n",
              "                                                    warm_start=False),\n",
              "                   iid='deprecated', n_iter=20, n_jobs=-1,\n",
              "                   param_distributions={'bootstrap': [True, False],\n",
              "                                        'max_depth': [4, 12, 20, None],\n",
              "                                        'max_features': ['auto', 'sqrt'],\n",
              "                                        'min_samples_leaf': [1, 2, 4],\n",
              "                                        'min_samples_split': [2, 5, 10],\n",
              "                                        'n_estimators': [50, 250, 1000]},\n",
              "                   pre_dispatch='2*n_jobs', random_state=42, refit=True,\n",
              "                   return_train_score=False, scoring=None, verbose=10)"
            ]
          },
          "metadata": {
            "tags": []
          },
          "execution_count": 25
        }
      ]
    },
    {
      "cell_type": "code",
      "metadata": {
        "colab": {
          "base_uri": "https://localhost:8080/"
        },
        "id": "5ciRHhmUp90f",
        "outputId": "6a09e39a-5590-4e95-cb9e-de596b3617c8"
      },
      "source": [
        "# Most successful model's parameters\n",
        "rf_random.best_params_"
      ],
      "execution_count": 26,
      "outputs": [
        {
          "output_type": "execute_result",
          "data": {
            "text/plain": [
              "{'bootstrap': True,\n",
              " 'max_depth': 4,\n",
              " 'max_features': 'sqrt',\n",
              " 'min_samples_leaf': 1,\n",
              " 'min_samples_split': 5,\n",
              " 'n_estimators': 50}"
            ]
          },
          "metadata": {
            "tags": []
          },
          "execution_count": 26
        }
      ]
    },
    {
      "cell_type": "code",
      "metadata": {
        "colab": {
          "base_uri": "https://localhost:8080/"
        },
        "id": "T7kzfMu6mJyU",
        "outputId": "893eaf1c-698e-4b17-b1ef-1a445cd985ab"
      },
      "source": [
        "# Accuracy rating\n",
        "rf_random.best_score_"
      ],
      "execution_count": 27,
      "outputs": [
        {
          "output_type": "execute_result",
          "data": {
            "text/plain": [
              "0.8550347222222222"
            ]
          },
          "metadata": {
            "tags": []
          },
          "execution_count": 27
        }
      ]
    },
    {
      "cell_type": "code",
      "metadata": {
        "colab": {
          "base_uri": "https://localhost:8080/"
        },
        "id": "8uRInr_uCIJN",
        "outputId": "2cd93bed-7583-467a-e289-f744a1e365f6"
      },
      "source": [
        "# Save best parameters as a variable \n",
        "rf_best= RandomForestClassifier(bootstrap = True,\n",
        " max_depth= 10, max_features= 'sqrt',\n",
        " min_samples_leaf= 4,\n",
        " min_samples_split= 2,\n",
        " n_estimators= 400)\n",
        "\n",
        "rf_best.fit(features, labels)"
      ],
      "execution_count": 28,
      "outputs": [
        {
          "output_type": "execute_result",
          "data": {
            "text/plain": [
              "RandomForestClassifier(bootstrap=True, ccp_alpha=0.0, class_weight=None,\n",
              "                       criterion='gini', max_depth=10, max_features='sqrt',\n",
              "                       max_leaf_nodes=None, max_samples=None,\n",
              "                       min_impurity_decrease=0.0, min_impurity_split=None,\n",
              "                       min_samples_leaf=4, min_samples_split=2,\n",
              "                       min_weight_fraction_leaf=0.0, n_estimators=400,\n",
              "                       n_jobs=None, oob_score=False, random_state=None,\n",
              "                       verbose=0, warm_start=False)"
            ]
          },
          "metadata": {
            "tags": []
          },
          "execution_count": 28
        }
      ]
    },
    {
      "cell_type": "markdown",
      "metadata": {
        "id": "kwLH6tCNkidE"
      },
      "source": [
        "### **Predict whether Nomadland (Won Oscar's Best Picture 2021) would be nominated for the Oscar's based on model**"
      ]
    },
    {
      "cell_type": "code",
      "metadata": {
        "id": "f8yetXtDaCsI"
      },
      "source": [
        "# Manually enter nomadland features\n",
        "nomadland_df = pd.DataFrame({\n",
        "    \"duration\": [110],\n",
        "    \"metascore\": [93],\n",
        "    \"gross\": [2143000],\n",
        "    \"awards_nominations\": [41], \n",
        "    \"golden_globes_nominated\": [4]\n",
        "})"
      ],
      "execution_count": 29,
      "outputs": []
    },
    {
      "cell_type": "code",
      "metadata": {
        "id": "xcKCesQAz3fY",
        "colab": {
          "base_uri": "https://localhost:8080/"
        },
        "outputId": "cd64de8b-0f92-4d1a-d17d-9ef3607b3926"
      },
      "source": [
        "# Predict whether Nomadland will be nominated for the Oscars\n",
        "\n",
        "Y_pred_rf_best = rf_best.predict(nomadland_df)\n",
        "Y_pred_rf_best"
      ],
      "execution_count": 30,
      "outputs": [
        {
          "output_type": "execute_result",
          "data": {
            "text/plain": [
              "array([1])"
            ]
          },
          "metadata": {
            "tags": []
          },
          "execution_count": 30
        }
      ]
    },
    {
      "cell_type": "markdown",
      "metadata": {
        "id": "CgKYS5Ai2H1z"
      },
      "source": [
        "**Visualize best parameters of the model and weights of features**"
      ]
    },
    {
      "cell_type": "code",
      "metadata": {
        "id": "0FDLd9ezwL71",
        "colab": {
          "base_uri": "https://localhost:8080/"
        },
        "outputId": "198b0ce7-0c86-461f-d6bd-37421dfef925"
      },
      "source": [
        "# Save features columns as a list \n",
        "columns_list = list(test_df.columns)[0:-1]\n",
        "columns_list"
      ],
      "execution_count": 31,
      "outputs": [
        {
          "output_type": "execute_result",
          "data": {
            "text/plain": [
              "['duration',\n",
              " 'metascore',\n",
              " 'gross',\n",
              " 'awards_nominations',\n",
              " 'golden_globes_nominated']"
            ]
          },
          "metadata": {
            "tags": []
          },
          "execution_count": 31
        }
      ]
    },
    {
      "cell_type": "code",
      "metadata": {
        "colab": {
          "base_uri": "https://localhost:8080/"
        },
        "id": "_dX_AsU7Brjg",
        "outputId": "4b4474a5-fedc-46c8-8b45-91867f6a6bbe"
      },
      "source": [
        "# Export the SAV machine learning file \n",
        "import joblib\n",
        "\n",
        "joblib.dump(rf_best, \"random_forest_oscars.sav\")"
      ],
      "execution_count": 32,
      "outputs": [
        {
          "output_type": "execute_result",
          "data": {
            "text/plain": [
              "['random_forest_oscars.sav']"
            ]
          },
          "metadata": {
            "tags": []
          },
          "execution_count": 32
        }
      ]
    },
    {
      "cell_type": "code",
      "metadata": {
        "id": "E1SSj7Bfz3hy",
        "colab": {
          "base_uri": "https://localhost:8080/"
        },
        "outputId": "15d39901-7338-4290-91be-41344f93c113"
      },
      "source": [
        "rf_best.fit(features, labels)\n",
        "# Find the weights of each feature and how they impact the score\n",
        "feature_imp = pd.Series(rf_best.feature_importances_,index=columns_list).sort_values(ascending=False)\n",
        "feature_imp"
      ],
      "execution_count": 33,
      "outputs": [
        {
          "output_type": "execute_result",
          "data": {
            "text/plain": [
              "awards_nominations         0.388239\n",
              "metascore                  0.229608\n",
              "gross                      0.161203\n",
              "golden_globes_nominated    0.144398\n",
              "duration                   0.076552\n",
              "dtype: float64"
            ]
          },
          "metadata": {
            "tags": []
          },
          "execution_count": 33
        }
      ]
    },
    {
      "cell_type": "code",
      "metadata": {
        "id": "3qrIXxRYz3kH",
        "colab": {
          "base_uri": "https://localhost:8080/",
          "height": 312
        },
        "outputId": "d0d055bc-3523-407e-b04a-84851161f622"
      },
      "source": [
        "import matplotlib.pyplot as plt\n",
        "import seaborn as sns\n",
        "%matplotlib inline\n",
        "\n",
        "# Creating a bar plot\n",
        "sns.barplot(x=feature_imp, y=feature_imp.index)\n",
        "\n",
        "# Add labels to your graph\n",
        "plt.xlabel('Feature Importance Score')\n",
        "plt.ylabel('Features')\n",
        "plt.title(\"Visualizing Important Features\")\n",
        "plt.legend()\n",
        "plt.show()"
      ],
      "execution_count": 34,
      "outputs": [
        {
          "output_type": "stream",
          "text": [
            "No handles with labels found to put in legend.\n"
          ],
          "name": "stderr"
        },
        {
          "output_type": "display_data",
          "data": {
            "image/png": "[encoded data removed]",
            "text/plain": [
              "<Figure size 432x288 with 1 Axes>"
            ]
          },
          "metadata": {
            "tags": [],
            "needs_background": "light"
          }
        }
      ]
    },
    {
      "cell_type": "code",
      "metadata": {
        "id": "gmqQJTwN0m2l"
      },
      "source": [
        ""
      ],
      "execution_count": null,
      "outputs": []
    }
  ]
}