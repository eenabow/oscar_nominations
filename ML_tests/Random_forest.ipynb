{
  "nbformat": 4,
  "nbformat_minor": 0,
  "metadata": {
    "colab": {
      "name": "Random_forest",
      "provenance": [],
      "collapsed_sections": []
    },
    "kernelspec": {
      "name": "python3",
      "display_name": "Python 3"
    },
    "language_info": {
      "name": "python"
    }
  },
  "cells": [
    {
      "cell_type": "code",
      "metadata": {
        "id": "NLBuzt3pzLu4"
      },
      "source": [
        "# Import dependencies\n",
        "from sklearn.ensemble import RandomForestClassifier\n",
        "import pandas as pd\n",
        "import numpy as np"
      ],
      "execution_count": 1,
      "outputs": []
    },
    {
      "cell_type": "markdown",
      "metadata": {
        "id": "XBSENKGckbL6"
      },
      "source": [
        "## **Loading in CSV**"
      ]
    },
    {
      "cell_type": "code",
      "metadata": {
        "id": "aGyKASbtz3ah"
      },
      "source": [
        "# Read in raw data of test_df from github\n",
        "url = 'https://raw.githubusercontent.com/eenabow/oscar_nominations/main/data/oscars_df.csv'\n",
        "test_df = pd.read_csv(url, index_col=None)"
      ],
      "execution_count": 2,
      "outputs": []
    },
    {
      "cell_type": "code",
      "metadata": {
        "colab": {
          "base_uri": "https://localhost:8080/",
          "height": 204
        },
        "id": "8zIPMoEHaCm6",
        "outputId": "ff2bc516-9a14-4534-8f72-f8be9c99f920"
      },
      "source": [
        "test_df.head()"
      ],
      "execution_count": 3,
      "outputs": [
        {
          "output_type": "execute_result",
          "data": {
            "text/html": [
              "<div>\n",
              "<style scoped>\n",
              "    .dataframe tbody tr th:only-of-type {\n",
              "        vertical-align: middle;\n",
              "    }\n",
              "\n",
              "    .dataframe tbody tr th {\n",
              "        vertical-align: top;\n",
              "    }\n",
              "\n",
              "    .dataframe thead th {\n",
              "        text-align: right;\n",
              "    }\n",
              "</style>\n",
              "<table border=\"1\" class=\"dataframe\">\n",
              "  <thead>\n",
              "    <tr style=\"text-align: right;\">\n",
              "      <th></th>\n",
              "      <th>movie</th>\n",
              "      <th>duration</th>\n",
              "      <th>metascore</th>\n",
              "      <th>gross</th>\n",
              "      <th>awards_nominations</th>\n",
              "      <th>golden_globes_nominated</th>\n",
              "      <th>oscar_nominated</th>\n",
              "    </tr>\n",
              "  </thead>\n",
              "  <tbody>\n",
              "    <tr>\n",
              "      <th>0</th>\n",
              "      <td>Kate &amp; Leopold</td>\n",
              "      <td>118</td>\n",
              "      <td>44.0</td>\n",
              "      <td>47100000.0</td>\n",
              "      <td>4</td>\n",
              "      <td>2</td>\n",
              "      <td>1</td>\n",
              "    </tr>\n",
              "    <tr>\n",
              "      <th>1</th>\n",
              "      <td>Chicken Run</td>\n",
              "      <td>84</td>\n",
              "      <td>88.0</td>\n",
              "      <td>106790000.0</td>\n",
              "      <td>11</td>\n",
              "      <td>1</td>\n",
              "      <td>0</td>\n",
              "    </tr>\n",
              "    <tr>\n",
              "      <th>2</th>\n",
              "      <td>Fantastic Four</td>\n",
              "      <td>106</td>\n",
              "      <td>40.0</td>\n",
              "      <td>154700000.0</td>\n",
              "      <td>0</td>\n",
              "      <td>0</td>\n",
              "      <td>0</td>\n",
              "    </tr>\n",
              "    <tr>\n",
              "      <th>3</th>\n",
              "      <td>Frida</td>\n",
              "      <td>123</td>\n",
              "      <td>61.0</td>\n",
              "      <td>25780000.0</td>\n",
              "      <td>12</td>\n",
              "      <td>2</td>\n",
              "      <td>1</td>\n",
              "    </tr>\n",
              "    <tr>\n",
              "      <th>4</th>\n",
              "      <td>The Lord of the Rings: The Fellowship of the Ring</td>\n",
              "      <td>178</td>\n",
              "      <td>92.0</td>\n",
              "      <td>313840000.0</td>\n",
              "      <td>67</td>\n",
              "      <td>4</td>\n",
              "      <td>1</td>\n",
              "    </tr>\n",
              "  </tbody>\n",
              "</table>\n",
              "</div>"
            ],
            "text/plain": [
              "                                               movie  ...  oscar_nominated\n",
              "0                                     Kate & Leopold  ...                1\n",
              "1                                        Chicken Run  ...                0\n",
              "2                                     Fantastic Four  ...                0\n",
              "3                                              Frida  ...                1\n",
              "4  The Lord of the Rings: The Fellowship of the Ring  ...                1\n",
              "\n",
              "[5 rows x 7 columns]"
            ]
          },
          "metadata": {
            "tags": []
          },
          "execution_count": 3
        }
      ]
    },
    {
      "cell_type": "code",
      "metadata": {
        "id": "gioop3enaCpg"
      },
      "source": [
        "# Will need to remove movie from test_df for actual model \n",
        "test_df = test_df[[\"duration\", \"metascore\", \"gross\", \"awards_nominations\", \"golden_globes_nominated\", \"oscar_nominated\"]]"
      ],
      "execution_count": 4,
      "outputs": []
    },
    {
      "cell_type": "markdown",
      "metadata": {
        "id": "emQS_lBd1CR0"
      },
      "source": [
        "## **Random Forest Machine Learning using Randomized search CV** "
      ]
    },
    {
      "cell_type": "code",
      "metadata": {
        "id": "5bxvrylwmVm9"
      },
      "source": [
        "# Labels are the values we want to predict\n",
        "labels = np.array(test_df['oscar_nominated'])\n",
        "\n",
        "# Remove the labels from the features\n",
        "# axis 1 refers to the columns\n",
        "features= test_df.drop('oscar_nominated', axis = 1)\n",
        "\n",
        "# Saving feature names for later use\n",
        "feature_list = list(features.columns)\n",
        "\n",
        "# Convert to numpy array\n",
        "features = np.array(features)\n"
      ],
      "execution_count": 5,
      "outputs": []
    },
    {
      "cell_type": "code",
      "metadata": {
        "id": "akhWfhKCmVsg"
      },
      "source": [
        "# Using Skicit-learn to split data into training and testing sets\n",
        "from sklearn.model_selection import train_test_split\n",
        "\n",
        "# Split the data into training and testing sets\n",
        "train_features, test_features, train_labels, test_labels = train_test_split(features, labels, test_size = 0.25, random_state = 42)"
      ],
      "execution_count": 6,
      "outputs": []
    },
    {
      "cell_type": "code",
      "metadata": {
        "colab": {
          "base_uri": "https://localhost:8080/"
        },
        "id": "rJ5cNdsTmV1C",
        "outputId": "c10fdf53-578f-4f23-e037-c6210a9dffe2"
      },
      "source": [
        "# Print the shape of the test and train splits\n",
        "print('Training Features Shape:', train_features.shape)\n",
        "print('Training Labels Shape:', train_labels.shape)\n",
        "print('Testing Features Shape:', test_features.shape)\n",
        "print('Testing Labels Shape:', test_labels.shape)\n"
      ],
      "execution_count": 7,
      "outputs": [
        {
          "output_type": "stream",
          "text": [
            "Training Features Shape: (864, 5)\n",
            "Training Labels Shape: (864,)\n",
            "Testing Features Shape: (288, 5)\n",
            "Testing Labels Shape: (288,)\n"
          ],
          "name": "stdout"
        }
      ]
    },
    {
      "cell_type": "code",
      "metadata": {
        "id": "Pkq9fba_sDaj"
      },
      "source": [
        "# Import the model we are using\n",
        "from sklearn.ensemble import RandomForestRegressor"
      ],
      "execution_count": 8,
      "outputs": []
    },
    {
      "cell_type": "code",
      "metadata": {
        "colab": {
          "base_uri": "https://localhost:8080/"
        },
        "id": "25cV_0cClwc_",
        "outputId": "41400096-f579-499a-c350-6cc90e5d0be4"
      },
      "source": [
        "from sklearn.model_selection import RandomizedSearchCV\n",
        "\n",
        "# Number of trees in random forest\n",
        "n_estimators = [int(x) for x in np.linspace(start = 200, stop = 2000, num = 10)]\n",
        "\n",
        "# Number of features to consider at every split\n",
        "max_features = ['auto', 'sqrt']\n",
        "\n",
        "# Maximum number of levels in tree\n",
        "max_depth = [int(x) for x in np.linspace(10, 110, num = 11)]\n",
        "\n",
        "max_depth.append(None)\n",
        "\n",
        "# Minimum number of samples required to split a node\n",
        "min_samples_split = [2, 5, 10]\n",
        "\n",
        "# Minimum number of samples required at each leaf node\n",
        "min_samples_leaf = [1, 2, 4]\n",
        "\n",
        "# Method of selecting samples for training each tree\n",
        "bootstrap = [True, False]\n",
        "\n",
        "# Create the random grid\n",
        "random_grid = {'n_estimators': n_estimators,\n",
        "               'max_features': max_features,\n",
        "               'max_depth': max_depth,\n",
        "               'min_samples_split': min_samples_split,\n",
        "               'min_samples_leaf': min_samples_leaf,\n",
        "               'bootstrap': bootstrap}\n",
        "\n",
        "\n",
        "# Use the random grid to search for best hyperparameters\n",
        "# First create the base model to tune\n",
        "rf = RandomForestRegressor()\n",
        "\n",
        "# Random search of parameters, using 3 fold cross validation, \n",
        "# search across 100 different combinations, and use all available cores\n",
        "rf_random = RandomizedSearchCV(estimator = rf, param_distributions = random_grid, n_iter = 100, cv = 3, verbose=10, random_state=42, n_jobs = -1)\n",
        "\n",
        "# Fit the random search model\n",
        "rf_random.fit(train_features, train_labels)\n",
        "\n"
      ],
      "execution_count": null,
      "outputs": [
        {
          "output_type": "stream",
          "text": [
            "Fitting 3 folds for each of 100 candidates, totalling 300 fits\n"
          ],
          "name": "stdout"
        },
        {
          "output_type": "stream",
          "text": [
            "[Parallel(n_jobs=-1)]: Using backend LokyBackend with 2 concurrent workers.\n",
            "[Parallel(n_jobs=-1)]: Done   1 tasks      | elapsed:    1.9s\n"
          ],
          "name": "stderr"
        }
      ]
    },
    {
      "cell_type": "code",
      "metadata": {
        "id": "5ciRHhmUp90f"
      },
      "source": [
        "# Most successful model's parameters\n",
        "rf_random.best_params_"
      ],
      "execution_count": null,
      "outputs": []
    },
    {
      "cell_type": "code",
      "metadata": {
        "id": "T7kzfMu6mJyU"
      },
      "source": [
        "# Accuracy rating\n",
        "rf_random.best_score_"
      ],
      "execution_count": null,
      "outputs": []
    },
    {
      "cell_type": "code",
      "metadata": {
        "id": "BYX0iR5xqYAO"
      },
      "source": [
        "# Export the SAV machine learning file \n",
        "import joblib\n",
        "\n",
        "joblib.dump(rf_random, \"random_forest_oscars.sav\")"
      ],
      "execution_count": null,
      "outputs": []
    },
    {
      "cell_type": "markdown",
      "metadata": {
        "id": "kwLH6tCNkidE"
      },
      "source": [
        "### **Predict whether Nomadland (Won Oscar's Best Picture 2021) would be nominated for the Oscar's based on model**"
      ]
    },
    {
      "cell_type": "code",
      "metadata": {
        "id": "f8yetXtDaCsI"
      },
      "source": [
        "# Manually enter nomadland features\n",
        "nomadland_df = pd.DataFrame({\n",
        "    \"duration\": [110],\n",
        "    \"metascore\": [93],\n",
        "    \"gross\": [2143000],\n",
        "    \"awards_nominations\": [41], \n",
        "    \"golden_globes_nominated\": [4]\n",
        "})"
      ],
      "execution_count": null,
      "outputs": []
    },
    {
      "cell_type": "code",
      "metadata": {
        "id": "xcKCesQAz3fY"
      },
      "source": [
        "# Predict the percentage of Nomadland being nominated for the Oscars\n",
        "rf_random.predict(nomadland_df)"
      ],
      "execution_count": null,
      "outputs": []
    },
    {
      "cell_type": "markdown",
      "metadata": {
        "id": "CgKYS5Ai2H1z"
      },
      "source": [
        "**Visualize best parameters of the model and weights of features**"
      ]
    },
    {
      "cell_type": "code",
      "metadata": {
        "id": "TrIMc7-LvU5f"
      },
      "source": [
        "# Save best parameters as a variable \n",
        "rf_best= RandomForestClassifier(bootstrap = True,\n",
        " max_depth= 10, max_features= 'sqrt',\n",
        " min_samples_leaf= 4,\n",
        " min_samples_split= 2,\n",
        " n_estimators= 400)\n",
        "\n",
        "rf_best.fit(train_features, train_labels)"
      ],
      "execution_count": null,
      "outputs": []
    },
    {
      "cell_type": "code",
      "metadata": {
        "id": "0FDLd9ezwL71"
      },
      "source": [
        "# Save features columns as a list \n",
        "columns_list = list(test_df.columns)[0:-1]\n",
        "columns_list"
      ],
      "execution_count": null,
      "outputs": []
    },
    {
      "cell_type": "code",
      "metadata": {
        "id": "E1SSj7Bfz3hy"
      },
      "source": [
        "# Find the weights of each feature and how they impact the score\n",
        "feature_imp = pd.Series(rf_best.feature_importances_,index=columns_list).sort_values(ascending=False)\n",
        "feature_imp"
      ],
      "execution_count": null,
      "outputs": []
    },
    {
      "cell_type": "code",
      "metadata": {
        "id": "3qrIXxRYz3kH"
      },
      "source": [
        "import matplotlib.pyplot as plt\n",
        "import seaborn as sns\n",
        "%matplotlib inline\n",
        "\n",
        "# Creating a bar plot\n",
        "sns.barplot(x=feature_imp, y=feature_imp.index)\n",
        "\n",
        "# Add labels to your graph\n",
        "plt.xlabel('Feature Importance Score')\n",
        "plt.ylabel('Features')\n",
        "plt.title(\"Visualizing Important Features\")\n",
        "plt.legend()\n",
        "plt.show()"
      ],
      "execution_count": null,
      "outputs": []
    },
    {
      "cell_type": "code",
      "metadata": {
        "id": "gmqQJTwN0m2l"
      },
      "source": [
        ""
      ],
      "execution_count": null,
      "outputs": []
    }
  ]
}