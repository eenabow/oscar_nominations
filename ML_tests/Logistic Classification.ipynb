{
 "cells": [
  {
   "cell_type": "markdown",
   "metadata": {},
   "source": [
    "# Logistic Classification"
   ]
  },
  {
   "cell_type": "code",
   "execution_count": 1,
   "metadata": {},
   "outputs": [],
   "source": [
    "# Import dependencies\n",
    "import os\n",
    "import matplotlib.pyplot as plt\n",
    "import seaborn as sns\n",
    "import pandas as pd\n",
    "import numpy as np\n",
    "\n",
    "from sklearn.linear_model import LogisticRegression\n",
    "import sklearn.linear_model as lm\n",
    "logreg = lm.LogisticRegression()\n",
    "from sklearn.model_selection import RepeatedStratifiedKFold\n",
    "from sklearn import datasets\n",
    "from sklearn.preprocessing import label_binarize, LabelBinarizer\n",
    "from sklearn.model_selection import train_test_split\n",
    "from sklearn.model_selection import GridSearchCV\n",
    "\n",
    "from sklearn.ensemble import GradientBoostingClassifier\n",
    "\n",
    "from sklearn.metrics import precision_recall_curve\n",
    "from sklearn.metrics import classification_report\n",
    "from sklearn.metrics import roc_curve, auc\n",
    "\n",
    "from collections import OrderedDict\n",
    "\n",
    "DISPLAY_PRECISION = 4\n",
    "pd.set_option(\"display.precision\", DISPLAY_PRECISION)"
   ]
  },
  {
   "cell_type": "markdown",
   "metadata": {},
   "source": [
    "# Loading in CSV"
   ]
  },
  {
   "cell_type": "code",
   "execution_count": 2,
   "metadata": {},
   "outputs": [],
   "source": [
    "# Import CSV\n",
    "url1 = 'https://raw.githubusercontent.com/eenabow/oscar_nominations/main/data/oscars2_df.csv'\n",
    "test1_df = pd.read_csv(url1, index_col=None)"
   ]
  },
  {
   "cell_type": "code",
   "execution_count": 3,
   "metadata": {},
   "outputs": [
    {
     "data": {
      "text/html": [
       "<div>\n",
       "<style scoped>\n",
       "    .dataframe tbody tr th:only-of-type {\n",
       "        vertical-align: middle;\n",
       "    }\n",
       "\n",
       "    .dataframe tbody tr th {\n",
       "        vertical-align: top;\n",
       "    }\n",
       "\n",
       "    .dataframe thead th {\n",
       "        text-align: right;\n",
       "    }\n",
       "</style>\n",
       "<table border=\"1\" class=\"dataframe\">\n",
       "  <thead>\n",
       "    <tr style=\"text-align: right;\">\n",
       "      <th></th>\n",
       "      <th>movie</th>\n",
       "      <th>duration</th>\n",
       "      <th>metascore</th>\n",
       "      <th>gross</th>\n",
       "      <th>critic_reviews</th>\n",
       "      <th>awards_wins</th>\n",
       "      <th>popularity</th>\n",
       "      <th>awards_nominations</th>\n",
       "      <th>golden_globes_nominated</th>\n",
       "      <th>oscar_nominated</th>\n",
       "    </tr>\n",
       "  </thead>\n",
       "  <tbody>\n",
       "    <tr>\n",
       "      <th>0</th>\n",
       "      <td>Kate &amp; Leopold</td>\n",
       "      <td>118</td>\n",
       "      <td>44.0</td>\n",
       "      <td>4.7100e+07</td>\n",
       "      <td>125.0</td>\n",
       "      <td>1</td>\n",
       "      <td>2363.0</td>\n",
       "      <td>4</td>\n",
       "      <td>2</td>\n",
       "      <td>1</td>\n",
       "    </tr>\n",
       "    <tr>\n",
       "      <th>1</th>\n",
       "      <td>Chicken Run</td>\n",
       "      <td>84</td>\n",
       "      <td>88.0</td>\n",
       "      <td>1.0679e+08</td>\n",
       "      <td>186.0</td>\n",
       "      <td>5</td>\n",
       "      <td>2859.0</td>\n",
       "      <td>11</td>\n",
       "      <td>1</td>\n",
       "      <td>0</td>\n",
       "    </tr>\n",
       "    <tr>\n",
       "      <th>2</th>\n",
       "      <td>Fantastic Four</td>\n",
       "      <td>106</td>\n",
       "      <td>40.0</td>\n",
       "      <td>1.5470e+08</td>\n",
       "      <td>278.0</td>\n",
       "      <td>0</td>\n",
       "      <td>1876.0</td>\n",
       "      <td>0</td>\n",
       "      <td>0</td>\n",
       "      <td>0</td>\n",
       "    </tr>\n",
       "    <tr>\n",
       "      <th>3</th>\n",
       "      <td>Frida</td>\n",
       "      <td>123</td>\n",
       "      <td>61.0</td>\n",
       "      <td>2.5780e+07</td>\n",
       "      <td>126.0</td>\n",
       "      <td>2</td>\n",
       "      <td>2508.0</td>\n",
       "      <td>12</td>\n",
       "      <td>2</td>\n",
       "      <td>1</td>\n",
       "    </tr>\n",
       "    <tr>\n",
       "      <th>4</th>\n",
       "      <td>The Lord of the Rings: The Fellowship of the Ring</td>\n",
       "      <td>178</td>\n",
       "      <td>92.0</td>\n",
       "      <td>3.1384e+08</td>\n",
       "      <td>296.0</td>\n",
       "      <td>26</td>\n",
       "      <td>204.0</td>\n",
       "      <td>67</td>\n",
       "      <td>4</td>\n",
       "      <td>1</td>\n",
       "    </tr>\n",
       "  </tbody>\n",
       "</table>\n",
       "</div>"
      ],
      "text/plain": [
       "                                               movie  duration  metascore  \\\n",
       "0                                     Kate & Leopold       118       44.0   \n",
       "1                                        Chicken Run        84       88.0   \n",
       "2                                     Fantastic Four       106       40.0   \n",
       "3                                              Frida       123       61.0   \n",
       "4  The Lord of the Rings: The Fellowship of the Ring       178       92.0   \n",
       "\n",
       "        gross  critic_reviews  awards_wins  popularity  awards_nominations  \\\n",
       "0  4.7100e+07           125.0            1      2363.0                   4   \n",
       "1  1.0679e+08           186.0            5      2859.0                  11   \n",
       "2  1.5470e+08           278.0            0      1876.0                   0   \n",
       "3  2.5780e+07           126.0            2      2508.0                  12   \n",
       "4  3.1384e+08           296.0           26       204.0                  67   \n",
       "\n",
       "   golden_globes_nominated  oscar_nominated  \n",
       "0                        2                1  \n",
       "1                        1                0  \n",
       "2                        0                0  \n",
       "3                        2                1  \n",
       "4                        4                1  "
      ]
     },
     "execution_count": 3,
     "metadata": {},
     "output_type": "execute_result"
    }
   ],
   "source": [
    "# Preview the dataset\n",
    "test1_df.head()"
   ]
  },
  {
   "cell_type": "code",
   "execution_count": 4,
   "metadata": {
    "scrolled": true
   },
   "outputs": [
    {
     "data": {
      "text/html": [
       "<div>\n",
       "<style scoped>\n",
       "    .dataframe tbody tr th:only-of-type {\n",
       "        vertical-align: middle;\n",
       "    }\n",
       "\n",
       "    .dataframe tbody tr th {\n",
       "        vertical-align: top;\n",
       "    }\n",
       "\n",
       "    .dataframe thead th {\n",
       "        text-align: right;\n",
       "    }\n",
       "</style>\n",
       "<table border=\"1\" class=\"dataframe\">\n",
       "  <thead>\n",
       "    <tr style=\"text-align: right;\">\n",
       "      <th></th>\n",
       "      <th>duration</th>\n",
       "      <th>metascore</th>\n",
       "      <th>gross</th>\n",
       "      <th>critic_reviews</th>\n",
       "      <th>awards_wins</th>\n",
       "      <th>popularity</th>\n",
       "      <th>awards_nominations</th>\n",
       "      <th>golden_globes_nominated</th>\n",
       "      <th>oscar_nominated</th>\n",
       "    </tr>\n",
       "  </thead>\n",
       "  <tbody>\n",
       "    <tr>\n",
       "      <th>0</th>\n",
       "      <td>118</td>\n",
       "      <td>44.0</td>\n",
       "      <td>4.7100e+07</td>\n",
       "      <td>125.0</td>\n",
       "      <td>1</td>\n",
       "      <td>2363.0</td>\n",
       "      <td>4</td>\n",
       "      <td>2</td>\n",
       "      <td>1</td>\n",
       "    </tr>\n",
       "    <tr>\n",
       "      <th>1</th>\n",
       "      <td>84</td>\n",
       "      <td>88.0</td>\n",
       "      <td>1.0679e+08</td>\n",
       "      <td>186.0</td>\n",
       "      <td>5</td>\n",
       "      <td>2859.0</td>\n",
       "      <td>11</td>\n",
       "      <td>1</td>\n",
       "      <td>0</td>\n",
       "    </tr>\n",
       "    <tr>\n",
       "      <th>2</th>\n",
       "      <td>106</td>\n",
       "      <td>40.0</td>\n",
       "      <td>1.5470e+08</td>\n",
       "      <td>278.0</td>\n",
       "      <td>0</td>\n",
       "      <td>1876.0</td>\n",
       "      <td>0</td>\n",
       "      <td>0</td>\n",
       "      <td>0</td>\n",
       "    </tr>\n",
       "    <tr>\n",
       "      <th>3</th>\n",
       "      <td>123</td>\n",
       "      <td>61.0</td>\n",
       "      <td>2.5780e+07</td>\n",
       "      <td>126.0</td>\n",
       "      <td>2</td>\n",
       "      <td>2508.0</td>\n",
       "      <td>12</td>\n",
       "      <td>2</td>\n",
       "      <td>1</td>\n",
       "    </tr>\n",
       "    <tr>\n",
       "      <th>4</th>\n",
       "      <td>178</td>\n",
       "      <td>92.0</td>\n",
       "      <td>3.1384e+08</td>\n",
       "      <td>296.0</td>\n",
       "      <td>26</td>\n",
       "      <td>204.0</td>\n",
       "      <td>67</td>\n",
       "      <td>4</td>\n",
       "      <td>1</td>\n",
       "    </tr>\n",
       "  </tbody>\n",
       "</table>\n",
       "</div>"
      ],
      "text/plain": [
       "   duration  metascore       gross  critic_reviews  awards_wins  popularity  \\\n",
       "0       118       44.0  4.7100e+07           125.0            1      2363.0   \n",
       "1        84       88.0  1.0679e+08           186.0            5      2859.0   \n",
       "2       106       40.0  1.5470e+08           278.0            0      1876.0   \n",
       "3       123       61.0  2.5780e+07           126.0            2      2508.0   \n",
       "4       178       92.0  3.1384e+08           296.0           26       204.0   \n",
       "\n",
       "   awards_nominations  golden_globes_nominated  oscar_nominated  \n",
       "0                   4                        2                1  \n",
       "1                  11                        1                0  \n",
       "2                   0                        0                0  \n",
       "3                  12                        2                1  \n",
       "4                  67                        4                1  "
      ]
     },
     "execution_count": 4,
     "metadata": {},
     "output_type": "execute_result"
    }
   ],
   "source": [
    "# Will need to remove movie from test_df for actual model\n",
    "test1_df = test1_df[[\"duration\", \"metascore\", \"gross\", \"critic_reviews\", \"awards_wins\", \"popularity\", \"awards_nominations\", \"golden_globes_nominated\", \"oscar_nominated\"]]\n",
    "test1_df.head()"
   ]
  },
  {
   "cell_type": "markdown",
   "metadata": {},
   "source": [
    "# Logistic Classifaction Machine Learning using grid search CV"
   ]
  },
  {
   "cell_type": "code",
   "execution_count": 5,
   "metadata": {},
   "outputs": [],
   "source": [
    "# Labels are the values we want to predict\n",
    "labels = np.array(test1_df['oscar_nominated'])\n",
    "\n",
    "# Remove the labels from the features\n",
    "# axis 1 refers to the columns\n",
    "features= test1_df.drop('oscar_nominated', axis = 1)\n",
    "\n",
    "# Saving feature names for later use\n",
    "feature_list = list(features.columns)\n",
    "\n",
    "# Convert to numpy array\n",
    "features = np.array(features)"
   ]
  },
  {
   "cell_type": "code",
   "execution_count": 6,
   "metadata": {},
   "outputs": [],
   "source": [
    "# Using Skicit-learn to split data into training and testing sets\n",
    "from sklearn.model_selection import train_test_split\n",
    "\n",
    "# Split the data into training and testing sets\n",
    "train_features, test_features, train_labels, test_labels = train_test_split(features, labels, test_size = 0.25, random_state = 42)"
   ]
  },
  {
   "cell_type": "code",
   "execution_count": 7,
   "metadata": {},
   "outputs": [
    {
     "name": "stdout",
     "output_type": "stream",
     "text": [
      "Training Features Shape: (783, 8)\n",
      "Training Labels Shape: (783,)\n",
      "Testing Features Shape: (261, 8)\n",
      "Testing Labels Shape: (261,)\n"
     ]
    }
   ],
   "source": [
    "# Print the shape of the test and train splits\n",
    "print('Training Features Shape:', train_features.shape)\n",
    "print('Training Labels Shape:', train_labels.shape)\n",
    "print('Testing Features Shape:', test_features.shape)\n",
    "print('Testing Labels Shape:', test_labels.shape)"
   ]
  },
  {
   "cell_type": "code",
   "execution_count": 8,
   "metadata": {},
   "outputs": [],
   "source": [
    "# define model\n",
    "model = LogisticRegression(max_iter=100)"
   ]
  },
  {
   "cell_type": "code",
   "execution_count": 9,
   "metadata": {},
   "outputs": [],
   "source": [
    "# define evaluation\n",
    "cv = RepeatedStratifiedKFold(n_splits=10, n_repeats=3, random_state=1)"
   ]
  },
  {
   "cell_type": "code",
   "execution_count": 10,
   "metadata": {},
   "outputs": [],
   "source": [
    "# define search space\n",
    "space = dict()\n",
    "space['solver'] = ['newton-cg', 'lbfgs', 'liblinear']\n",
    "space['penalty'] = ['none', 'l1', 'l2', 'elasticnet']\n",
    "space['C'] = [1e-5, 1e-4, 1e-3, 1e-2, 1e-1, 1, 10, 100]"
   ]
  },
  {
   "cell_type": "code",
   "execution_count": 11,
   "metadata": {},
   "outputs": [],
   "source": [
    "# define search\n",
    "search = GridSearchCV(model, space, scoring='accuracy', n_jobs=-1, cv=cv)"
   ]
  },
  {
   "cell_type": "code",
   "execution_count": 12,
   "metadata": {},
   "outputs": [
    {
     "data": {
      "text/plain": [
       "GridSearchCV(cv=RepeatedStratifiedKFold(n_repeats=3, n_splits=10, random_state=1),\n",
       "             estimator=LogisticRegression(), n_jobs=-1,\n",
       "             param_grid={'C': [1e-05, 0.0001, 0.001, 0.01, 0.1, 1, 10, 100],\n",
       "                         'penalty': ['none', 'l1', 'l2', 'elasticnet'],\n",
       "                         'solver': ['newton-cg', 'lbfgs', 'liblinear']},\n",
       "             scoring='accuracy')"
      ]
     },
     "execution_count": 12,
     "metadata": {},
     "output_type": "execute_result"
    }
   ],
   "source": [
    "# execute search\n",
    "result = search.fit(train_features, train_labels)\n",
    "result"
   ]
  },
  {
   "cell_type": "code",
   "execution_count": 13,
   "metadata": {},
   "outputs": [
    {
     "name": "stdout",
     "output_type": "stream",
     "text": [
      "Best Score: 0.867207616574705\n",
      "Best Hyperparameters: {'C': 10, 'penalty': 'l1', 'solver': 'liblinear'}\n"
     ]
    }
   ],
   "source": [
    "# summarize result\n",
    "print('Best Score: %s' % result.best_score_)\n",
    "print('Best Hyperparameters: %s' % result.best_params_)"
   ]
  },
  {
   "cell_type": "markdown",
   "metadata": {},
   "source": [
    "# Predict whether Nomadland (Won Oscar's Best Picture 2021) would be nominated for the Oscar's based on model"
   ]
  },
  {
   "cell_type": "code",
   "execution_count": 14,
   "metadata": {},
   "outputs": [],
   "source": [
    "# Manually enter nomadland features\n",
    "nomadland_df = pd.DataFrame({\n",
    "    \"duration\": [110],\n",
    "    \"metascore\": [93],\n",
    "    \"gross\": [2143000],\n",
    "    \"critic_reviews\": [303],\n",
    "    \"awards_wins\": [227],\n",
    "    \"popularity\": [11],\n",
    "    \"awards_nominations\": [41], \n",
    "    \"golden_globes_nominated\": [4]\n",
    "})"
   ]
  },
  {
   "cell_type": "code",
   "execution_count": 15,
   "metadata": {},
   "outputs": [
    {
     "data": {
      "text/plain": [
       "array([1])"
      ]
     },
     "execution_count": 15,
     "metadata": {},
     "output_type": "execute_result"
    }
   ],
   "source": [
    "search.predict(nomadland_df)"
   ]
  },
  {
   "cell_type": "markdown",
   "metadata": {},
   "source": [
    "# Visualize best parameters of the model and weights of features"
   ]
  },
  {
   "cell_type": "code",
   "execution_count": 16,
   "metadata": {},
   "outputs": [
    {
     "data": {
      "text/plain": [
       "['duration',\n",
       " 'metascore',\n",
       " 'gross',\n",
       " 'critic_reviews',\n",
       " 'awards_wins',\n",
       " 'popularity',\n",
       " 'awards_nominations',\n",
       " 'golden_globes_nominated']"
      ]
     },
     "execution_count": 16,
     "metadata": {},
     "output_type": "execute_result"
    }
   ],
   "source": [
    "# Save features columns as a list \n",
    "columns_list = list(test1_df.columns)[0:-1]\n",
    "columns_list"
   ]
  },
  {
   "cell_type": "code",
   "execution_count": 17,
   "metadata": {},
   "outputs": [
    {
     "data": {
      "text/plain": [
       "array([ 2.87455422e-02,  4.26736996e-02,  2.46841319e-09, -1.31607165e-03,\n",
       "        9.48842904e-02,  7.79122822e-04,  1.76282685e-01,  6.64276039e-01])"
      ]
     },
     "execution_count": 17,
     "metadata": {},
     "output_type": "execute_result"
    }
   ],
   "source": [
    "# Find the weights of each feature and how they impact the score\n",
    "feature_imp = result.best_estimator_.coef_\n",
    "feature_imp = feature_imp[0]\n",
    "feature_imp"
   ]
  },
  {
   "cell_type": "code",
   "execution_count": 18,
   "metadata": {},
   "outputs": [
    {
     "name": "stderr",
     "output_type": "stream",
     "text": [
      "No handles with labels found to put in legend.\n"
     ]
    },
    {
     "data": {
      "image/png": "[encoded data removed]",
      "text/plain": [
       "<Figure size 432x288 with 1 Axes>"
      ]
     },
     "metadata": {
      "needs_background": "light"
     },
     "output_type": "display_data"
    }
   ],
   "source": [
    "import matplotlib.pyplot as plt\n",
    "import seaborn as sns\n",
    "%matplotlib inline\n",
    "\n",
    "# Creating a bar plot\n",
    "sns.barplot(x=feature_imp, y=columns_list)\n",
    "\n",
    "# Add labels to your graph\n",
    "plt.xlabel('Feature Importance Score')\n",
    "plt.ylabel('Features')\n",
    "plt.title(\"Visualizing Important Features\")\n",
    "plt.legend()\n",
    "plt.show()"
   ]
  },
  {
   "cell_type": "code",
   "execution_count": 19,
   "metadata": {},
   "outputs": [
    {
     "data": {
      "text/plain": [
       "['logistic_classifaction_oscars.sav']"
      ]
     },
     "execution_count": 19,
     "metadata": {},
     "output_type": "execute_result"
    }
   ],
   "source": [
    "# Export the SAV machine learning file \n",
    "import joblib\n",
    "\n",
    "joblib.dump(search, \"logistic_classifaction_oscars.sav\")"
   ]
  }
 ],
 "metadata": {
  "kernelspec": {
   "display_name": "Python 3",
   "language": "python",
   "name": "python3"
  },
  "language_info": {
   "codemirror_mode": {
    "name": "ipython",
    "version": 3
   },
   "file_extension": ".py",
   "mimetype": "text/x-python",
   "name": "python",
   "nbconvert_exporter": "python",
   "pygments_lexer": "ipython3",
   "version": "3.8.3"
  }
 },
 "nbformat": 4,
 "nbformat_minor": 4
}
