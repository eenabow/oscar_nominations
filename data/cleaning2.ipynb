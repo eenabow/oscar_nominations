{
 "metadata": {
  "language_info": {
   "codemirror_mode": {
    "name": "ipython",
    "version": 3
   },
   "file_extension": ".py",
   "mimetype": "text/x-python",
   "name": "python",
   "nbconvert_exporter": "python",
   "pygments_lexer": "ipython3",
   "version": "3.9.2"
  },
  "orig_nbformat": 2,
  "kernelspec": {
   "name": "python392jvsc74a57bd063fd5069d213b44bf678585dea6b12cceca9941eaf7f819626cde1f2670de90d",
   "display_name": "Python 3.9.2 64-bit"
  },
  "metadata": {
   "interpreter": {
    "hash": "63fd5069d213b44bf678585dea6b12cceca9941eaf7f819626cde1f2670de90d"
   }
  }
 },
 "nbformat": 4,
 "nbformat_minor": 2,
 "cells": [
  {
   "cell_type": "code",
   "execution_count": 13,
   "metadata": {},
   "outputs": [],
   "source": [
    "# Dependencies and Setup\n",
    "import pandas as pd\n",
    "import numpy as np\n"
   ]
  },
  {
   "cell_type": "code",
   "execution_count": 14,
   "metadata": {},
   "outputs": [],
   "source": [
    "Oscar_nominated = pd.read_csv('Oscar_nominated.csv')"
   ]
  },
  {
   "cell_type": "code",
   "execution_count": 15,
   "metadata": {},
   "outputs": [
    {
     "output_type": "execute_result",
     "data": {
      "text/plain": [
       "   year                                              movie   movie_id  \\\n",
       "0  2001                                     Kate & Leopold  tt0035423   \n",
       "1  2000                                        Chicken Run  tt0120630   \n",
       "2  2005                                     Fantastic Four  tt0120667   \n",
       "3  2002                                              Frida  tt0120679   \n",
       "4  2001  The Lord of the Rings: The Fellowship of the Ring  tt0120737   \n",
       "\n",
       "  certificate  duration                       genre  rate  metascore  \\\n",
       "0       PG-13       118      Comedy|Fantasy|Romance   6.4       44.0   \n",
       "1           G        84  Animation|Adventure|Comedy   7.0       88.0   \n",
       "2       PG-13       106     Action|Adventure|Family   5.7       40.0   \n",
       "3           R       123     Biography|Drama|Romance   7.4       61.0   \n",
       "4       PG-13       178     Adventure|Drama|Fantasy   8.8       92.0   \n",
       "\n",
       "                                            synopsis    votes  ...  \\\n",
       "0  An English Duke from 1876 is inadvertedly drag...    66660  ...   \n",
       "1  When a cockerel apparently flies into a chicke...   144475  ...   \n",
       "2  A group of astronauts gain superpowers after a...   273203  ...   \n",
       "3  A biography of artist Frida Kahlo, who channel...    63852  ...   \n",
       "4  A meek Hobbit from the Shire and eight compani...  1286275  ...   \n",
       "\n",
       "   New_York_Film_Critics_Circle_nominated  \\\n",
       "0                                       0   \n",
       "1                                       1   \n",
       "2                                       0   \n",
       "3                                       0   \n",
       "4                                       0   \n",
       "\n",
       "  New_York_Film_Critics_Circle_nominated_categories  \\\n",
       "0                                               NaN   \n",
       "1                                Best Animated Film   \n",
       "2                                               NaN   \n",
       "3                                               NaN   \n",
       "4                                               NaN   \n",
       "\n",
       "   Los_Angeles_Film_Critics_Association_won  \\\n",
       "0                                         0   \n",
       "1                                         1   \n",
       "2                                         0   \n",
       "3                                         0   \n",
       "4                                         1   \n",
       "\n",
       "   Los_Angeles_Film_Critics_Association_won_categories  \\\n",
       "0                                                NaN     \n",
       "1                                     Best Animation     \n",
       "2                                                NaN     \n",
       "3                                                NaN     \n",
       "4                                         Best Music     \n",
       "\n",
       "   Los_Angeles_Film_Critics_Association_nominated  \\\n",
       "0                                               0   \n",
       "1                                               1   \n",
       "2                                               0   \n",
       "3                                               0   \n",
       "4                                               2   \n",
       "\n",
       "   Los_Angeles_Film_Critics_Association_nominated_categories  \\\n",
       "0                                                NaN           \n",
       "1                                     Best Animation           \n",
       "2                                                NaN           \n",
       "3                                                NaN           \n",
       "4                  Best Music|Best Production Design           \n",
       "\n",
       "   release_date.year release_date.month release_date.day-of-month  \\\n",
       "0             2001.0               12.0                      25.0   \n",
       "1             2000.0                6.0                      23.0   \n",
       "2             2005.0                7.0                       8.0   \n",
       "3             2002.0               11.0                      22.0   \n",
       "4             2001.0               12.0                      19.0   \n",
       "\n",
       "  release_date.day-of-week  \n",
       "0                      2.0  \n",
       "1                      5.0  \n",
       "2                      5.0  \n",
       "3                      5.0  \n",
       "4                      3.0  \n",
       "\n",
       "[5 rows x 119 columns]"
      ],
      "text/html": "<div>\n<style scoped>\n    .dataframe tbody tr th:only-of-type {\n        vertical-align: middle;\n    }\n\n    .dataframe tbody tr th {\n        vertical-align: top;\n    }\n\n    .dataframe thead th {\n        text-align: right;\n    }\n</style>\n<table border=\"1\" class=\"dataframe\">\n  <thead>\n    <tr style=\"text-align: right;\">\n      <th></th>\n      <th>year</th>\n      <th>movie</th>\n      <th>movie_id</th>\n      <th>certificate</th>\n      <th>duration</th>\n      <th>genre</th>\n      <th>rate</th>\n      <th>metascore</th>\n      <th>synopsis</th>\n      <th>votes</th>\n      <th>...</th>\n      <th>New_York_Film_Critics_Circle_nominated</th>\n      <th>New_York_Film_Critics_Circle_nominated_categories</th>\n      <th>Los_Angeles_Film_Critics_Association_won</th>\n      <th>Los_Angeles_Film_Critics_Association_won_categories</th>\n      <th>Los_Angeles_Film_Critics_Association_nominated</th>\n      <th>Los_Angeles_Film_Critics_Association_nominated_categories</th>\n      <th>release_date.year</th>\n      <th>release_date.month</th>\n      <th>release_date.day-of-month</th>\n      <th>release_date.day-of-week</th>\n    </tr>\n  </thead>\n  <tbody>\n    <tr>\n      <th>0</th>\n      <td>2001</td>\n      <td>Kate &amp; Leopold</td>\n      <td>tt0035423</td>\n      <td>PG-13</td>\n      <td>118</td>\n      <td>Comedy|Fantasy|Romance</td>\n      <td>6.4</td>\n      <td>44.0</td>\n      <td>An English Duke from 1876 is inadvertedly drag...</td>\n      <td>66660</td>\n      <td>...</td>\n      <td>0</td>\n      <td>NaN</td>\n      <td>0</td>\n      <td>NaN</td>\n      <td>0</td>\n      <td>NaN</td>\n      <td>2001.0</td>\n      <td>12.0</td>\n      <td>25.0</td>\n      <td>2.0</td>\n    </tr>\n    <tr>\n      <th>1</th>\n      <td>2000</td>\n      <td>Chicken Run</td>\n      <td>tt0120630</td>\n      <td>G</td>\n      <td>84</td>\n      <td>Animation|Adventure|Comedy</td>\n      <td>7.0</td>\n      <td>88.0</td>\n      <td>When a cockerel apparently flies into a chicke...</td>\n      <td>144475</td>\n      <td>...</td>\n      <td>1</td>\n      <td>Best Animated Film</td>\n      <td>1</td>\n      <td>Best Animation</td>\n      <td>1</td>\n      <td>Best Animation</td>\n      <td>2000.0</td>\n      <td>6.0</td>\n      <td>23.0</td>\n      <td>5.0</td>\n    </tr>\n    <tr>\n      <th>2</th>\n      <td>2005</td>\n      <td>Fantastic Four</td>\n      <td>tt0120667</td>\n      <td>PG-13</td>\n      <td>106</td>\n      <td>Action|Adventure|Family</td>\n      <td>5.7</td>\n      <td>40.0</td>\n      <td>A group of astronauts gain superpowers after a...</td>\n      <td>273203</td>\n      <td>...</td>\n      <td>0</td>\n      <td>NaN</td>\n      <td>0</td>\n      <td>NaN</td>\n      <td>0</td>\n      <td>NaN</td>\n      <td>2005.0</td>\n      <td>7.0</td>\n      <td>8.0</td>\n      <td>5.0</td>\n    </tr>\n    <tr>\n      <th>3</th>\n      <td>2002</td>\n      <td>Frida</td>\n      <td>tt0120679</td>\n      <td>R</td>\n      <td>123</td>\n      <td>Biography|Drama|Romance</td>\n      <td>7.4</td>\n      <td>61.0</td>\n      <td>A biography of artist Frida Kahlo, who channel...</td>\n      <td>63852</td>\n      <td>...</td>\n      <td>0</td>\n      <td>NaN</td>\n      <td>0</td>\n      <td>NaN</td>\n      <td>0</td>\n      <td>NaN</td>\n      <td>2002.0</td>\n      <td>11.0</td>\n      <td>22.0</td>\n      <td>5.0</td>\n    </tr>\n    <tr>\n      <th>4</th>\n      <td>2001</td>\n      <td>The Lord of the Rings: The Fellowship of the Ring</td>\n      <td>tt0120737</td>\n      <td>PG-13</td>\n      <td>178</td>\n      <td>Adventure|Drama|Fantasy</td>\n      <td>8.8</td>\n      <td>92.0</td>\n      <td>A meek Hobbit from the Shire and eight compani...</td>\n      <td>1286275</td>\n      <td>...</td>\n      <td>0</td>\n      <td>NaN</td>\n      <td>1</td>\n      <td>Best Music</td>\n      <td>2</td>\n      <td>Best Music|Best Production Design</td>\n      <td>2001.0</td>\n      <td>12.0</td>\n      <td>19.0</td>\n      <td>3.0</td>\n    </tr>\n  </tbody>\n</table>\n<p>5 rows × 119 columns</p>\n</div>"
     },
     "metadata": {},
     "execution_count": 15
    }
   ],
   "source": [
    "Oscar_nominated.head()"
   ]
  },
  {
   "cell_type": "code",
   "execution_count": 16,
   "metadata": {},
   "outputs": [],
   "source": [
    "# Keeping specific parameters\n",
    "columns_to_keep = [\"movie\", \"duration\", \"metascore\", \"gross\", \"critic_reviews\", \"awards_wins\", \"popularity\", \"awards_nominations\", \"Golden_Globes_nominated\", \"Oscar_nominated\"]\n",
    "\n",
    "reduced_df = Oscar_nominated[columns_to_keep]"
   ]
  },
  {
   "cell_type": "code",
   "execution_count": 17,
   "metadata": {},
   "outputs": [
    {
     "output_type": "execute_result",
     "data": {
      "text/plain": [
       "                                               movie  duration  metascore  \\\n",
       "0                                     Kate & Leopold       118       44.0   \n",
       "1                                        Chicken Run        84       88.0   \n",
       "2                                     Fantastic Four       106       40.0   \n",
       "3                                              Frida       123       61.0   \n",
       "4  The Lord of the Rings: The Fellowship of the Ring       178       92.0   \n",
       "\n",
       "         gross  critic_reviews  awards_wins  popularity  awards_nominations  \\\n",
       "0   47100000.0           125.0            1      2363.0                   4   \n",
       "1  106790000.0           186.0            5      2859.0                  11   \n",
       "2  154700000.0           278.0            0      1876.0                   0   \n",
       "3   25780000.0           126.0            2      2508.0                  12   \n",
       "4  313840000.0           296.0           26       204.0                  67   \n",
       "\n",
       "   golden_globes_nominated  oscar_nominated  \n",
       "0                        2                1  \n",
       "1                        1                0  \n",
       "2                        0                0  \n",
       "3                        2                6  \n",
       "4                        4               13  "
      ],
      "text/html": "<div>\n<style scoped>\n    .dataframe tbody tr th:only-of-type {\n        vertical-align: middle;\n    }\n\n    .dataframe tbody tr th {\n        vertical-align: top;\n    }\n\n    .dataframe thead th {\n        text-align: right;\n    }\n</style>\n<table border=\"1\" class=\"dataframe\">\n  <thead>\n    <tr style=\"text-align: right;\">\n      <th></th>\n      <th>movie</th>\n      <th>duration</th>\n      <th>metascore</th>\n      <th>gross</th>\n      <th>critic_reviews</th>\n      <th>awards_wins</th>\n      <th>popularity</th>\n      <th>awards_nominations</th>\n      <th>golden_globes_nominated</th>\n      <th>oscar_nominated</th>\n    </tr>\n  </thead>\n  <tbody>\n    <tr>\n      <th>0</th>\n      <td>Kate &amp; Leopold</td>\n      <td>118</td>\n      <td>44.0</td>\n      <td>47100000.0</td>\n      <td>125.0</td>\n      <td>1</td>\n      <td>2363.0</td>\n      <td>4</td>\n      <td>2</td>\n      <td>1</td>\n    </tr>\n    <tr>\n      <th>1</th>\n      <td>Chicken Run</td>\n      <td>84</td>\n      <td>88.0</td>\n      <td>106790000.0</td>\n      <td>186.0</td>\n      <td>5</td>\n      <td>2859.0</td>\n      <td>11</td>\n      <td>1</td>\n      <td>0</td>\n    </tr>\n    <tr>\n      <th>2</th>\n      <td>Fantastic Four</td>\n      <td>106</td>\n      <td>40.0</td>\n      <td>154700000.0</td>\n      <td>278.0</td>\n      <td>0</td>\n      <td>1876.0</td>\n      <td>0</td>\n      <td>0</td>\n      <td>0</td>\n    </tr>\n    <tr>\n      <th>3</th>\n      <td>Frida</td>\n      <td>123</td>\n      <td>61.0</td>\n      <td>25780000.0</td>\n      <td>126.0</td>\n      <td>2</td>\n      <td>2508.0</td>\n      <td>12</td>\n      <td>2</td>\n      <td>6</td>\n    </tr>\n    <tr>\n      <th>4</th>\n      <td>The Lord of the Rings: The Fellowship of the Ring</td>\n      <td>178</td>\n      <td>92.0</td>\n      <td>313840000.0</td>\n      <td>296.0</td>\n      <td>26</td>\n      <td>204.0</td>\n      <td>67</td>\n      <td>4</td>\n      <td>13</td>\n    </tr>\n  </tbody>\n</table>\n</div>"
     },
     "metadata": {},
     "execution_count": 17
    }
   ],
   "source": [
    "oscars_df = reduced_df.rename(columns={\"Golden_Globes_nominated\": \"golden_globes_nominated\", \"Oscar_nominated\":\"oscar_nominated\"})\n",
    "oscars_df.head()"
   ]
  },
  {
   "cell_type": "code",
   "execution_count": 18,
   "metadata": {},
   "outputs": [],
   "source": [
    "# Replace all values in oscar nominated column with boolean 1's and 0's\n",
    "oscars_df[\"oscar_nominated\"] = np.where((oscars_df['oscar_nominated'] >= 1),1,oscars_df['oscar_nominated'])"
   ]
  },
  {
   "cell_type": "code",
   "execution_count": 19,
   "metadata": {},
   "outputs": [
    {
     "output_type": "execute_result",
     "data": {
      "text/plain": [
       "                                                  movie  duration  metascore  \\\n",
       "0                                        Kate & Leopold       118       44.0   \n",
       "1                                           Chicken Run        84       88.0   \n",
       "2                                        Fantastic Four       106       40.0   \n",
       "3                                                 Frida       123       61.0   \n",
       "4     The Lord of the Rings: The Fellowship of the Ring       178       92.0   \n",
       "...                                                 ...       ...        ...   \n",
       "1178                               Call Me by Your Name       132       93.0   \n",
       "1179                                     Phantom Thread       130       90.0   \n",
       "1180                                   Victoria & Abdul       111       58.0   \n",
       "1181                              Roman J. Israel, Esq.       122       58.0   \n",
       "1182                                           The Post       116       83.0   \n",
       "\n",
       "            gross  critic_reviews  awards_wins  popularity  \\\n",
       "0      47100000.0           125.0            1      2363.0   \n",
       "1     106790000.0           186.0            5      2859.0   \n",
       "2     154700000.0           278.0            0      1876.0   \n",
       "3      25780000.0           126.0            2      2508.0   \n",
       "4     313840000.0           296.0           26       204.0   \n",
       "...           ...             ...          ...         ...   \n",
       "1178   11300000.0           300.0           15         7.0   \n",
       "1179   10710000.0           180.0            9        11.0   \n",
       "1180   22250000.0           164.0            1       151.0   \n",
       "1181   11940000.0            86.0            0       115.0   \n",
       "1182   58790000.0           291.0            0         6.0   \n",
       "\n",
       "      awards_nominations  golden_globes_nominated  oscar_nominated  \n",
       "0                      4                        2                1  \n",
       "1                     11                        1                0  \n",
       "2                      0                        0                0  \n",
       "3                     12                        2                1  \n",
       "4                     67                        4                1  \n",
       "...                  ...                      ...              ...  \n",
       "1178                  55                        3                1  \n",
       "1179                  30                        2                1  \n",
       "1180                   5                        1                1  \n",
       "1181                   2                        1                1  \n",
       "1182                  22                        6                1  \n",
       "\n",
       "[1044 rows x 10 columns]"
      ],
      "text/html": "<div>\n<style scoped>\n    .dataframe tbody tr th:only-of-type {\n        vertical-align: middle;\n    }\n\n    .dataframe tbody tr th {\n        vertical-align: top;\n    }\n\n    .dataframe thead th {\n        text-align: right;\n    }\n</style>\n<table border=\"1\" class=\"dataframe\">\n  <thead>\n    <tr style=\"text-align: right;\">\n      <th></th>\n      <th>movie</th>\n      <th>duration</th>\n      <th>metascore</th>\n      <th>gross</th>\n      <th>critic_reviews</th>\n      <th>awards_wins</th>\n      <th>popularity</th>\n      <th>awards_nominations</th>\n      <th>golden_globes_nominated</th>\n      <th>oscar_nominated</th>\n    </tr>\n  </thead>\n  <tbody>\n    <tr>\n      <th>0</th>\n      <td>Kate &amp; Leopold</td>\n      <td>118</td>\n      <td>44.0</td>\n      <td>47100000.0</td>\n      <td>125.0</td>\n      <td>1</td>\n      <td>2363.0</td>\n      <td>4</td>\n      <td>2</td>\n      <td>1</td>\n    </tr>\n    <tr>\n      <th>1</th>\n      <td>Chicken Run</td>\n      <td>84</td>\n      <td>88.0</td>\n      <td>106790000.0</td>\n      <td>186.0</td>\n      <td>5</td>\n      <td>2859.0</td>\n      <td>11</td>\n      <td>1</td>\n      <td>0</td>\n    </tr>\n    <tr>\n      <th>2</th>\n      <td>Fantastic Four</td>\n      <td>106</td>\n      <td>40.0</td>\n      <td>154700000.0</td>\n      <td>278.0</td>\n      <td>0</td>\n      <td>1876.0</td>\n      <td>0</td>\n      <td>0</td>\n      <td>0</td>\n    </tr>\n    <tr>\n      <th>3</th>\n      <td>Frida</td>\n      <td>123</td>\n      <td>61.0</td>\n      <td>25780000.0</td>\n      <td>126.0</td>\n      <td>2</td>\n      <td>2508.0</td>\n      <td>12</td>\n      <td>2</td>\n      <td>1</td>\n    </tr>\n    <tr>\n      <th>4</th>\n      <td>The Lord of the Rings: The Fellowship of the Ring</td>\n      <td>178</td>\n      <td>92.0</td>\n      <td>313840000.0</td>\n      <td>296.0</td>\n      <td>26</td>\n      <td>204.0</td>\n      <td>67</td>\n      <td>4</td>\n      <td>1</td>\n    </tr>\n    <tr>\n      <th>...</th>\n      <td>...</td>\n      <td>...</td>\n      <td>...</td>\n      <td>...</td>\n      <td>...</td>\n      <td>...</td>\n      <td>...</td>\n      <td>...</td>\n      <td>...</td>\n      <td>...</td>\n    </tr>\n    <tr>\n      <th>1178</th>\n      <td>Call Me by Your Name</td>\n      <td>132</td>\n      <td>93.0</td>\n      <td>11300000.0</td>\n      <td>300.0</td>\n      <td>15</td>\n      <td>7.0</td>\n      <td>55</td>\n      <td>3</td>\n      <td>1</td>\n    </tr>\n    <tr>\n      <th>1179</th>\n      <td>Phantom Thread</td>\n      <td>130</td>\n      <td>90.0</td>\n      <td>10710000.0</td>\n      <td>180.0</td>\n      <td>9</td>\n      <td>11.0</td>\n      <td>30</td>\n      <td>2</td>\n      <td>1</td>\n    </tr>\n    <tr>\n      <th>1180</th>\n      <td>Victoria &amp; Abdul</td>\n      <td>111</td>\n      <td>58.0</td>\n      <td>22250000.0</td>\n      <td>164.0</td>\n      <td>1</td>\n      <td>151.0</td>\n      <td>5</td>\n      <td>1</td>\n      <td>1</td>\n    </tr>\n    <tr>\n      <th>1181</th>\n      <td>Roman J. Israel, Esq.</td>\n      <td>122</td>\n      <td>58.0</td>\n      <td>11940000.0</td>\n      <td>86.0</td>\n      <td>0</td>\n      <td>115.0</td>\n      <td>2</td>\n      <td>1</td>\n      <td>1</td>\n    </tr>\n    <tr>\n      <th>1182</th>\n      <td>The Post</td>\n      <td>116</td>\n      <td>83.0</td>\n      <td>58790000.0</td>\n      <td>291.0</td>\n      <td>0</td>\n      <td>6.0</td>\n      <td>22</td>\n      <td>6</td>\n      <td>1</td>\n    </tr>\n  </tbody>\n</table>\n<p>1044 rows × 10 columns</p>\n</div>"
     },
     "metadata": {},
     "execution_count": 19
    }
   ],
   "source": [
    "oscars_df.dropna()"
   ]
  },
  {
   "cell_type": "code",
   "execution_count": 20,
   "metadata": {},
   "outputs": [],
   "source": [
    "oscars_df.to_csv(\"oscars2_df.csv\", index=False)"
   ]
  },
  {
   "cell_type": "code",
   "execution_count": null,
   "metadata": {},
   "outputs": [],
   "source": []
  }
 ]
}